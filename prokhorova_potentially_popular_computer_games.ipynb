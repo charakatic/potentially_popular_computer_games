{
 "cells": [
  {
   "cell_type": "markdown",
   "id": "4307551f",
   "metadata": {},
   "source": [
    "# Исследование закономерностей, определяющих успешность компьютерных игр\n",
    "\n",
    "Исследование проводится для интернет-магазина, продающего компьютерные игры. Используются данные за 2016 год и ранее, данные предоставлены из открытых источников и содержат информацию о продажах игр, оценках пользователей и экспертов, жанрах и платформах. Необходимо выявить определяющие успешность игры закономерности для выявления потенциально популярных продуктов и прогнозирования рекламной кампании на 2017-й год. "
   ]
  },
  {
   "cell_type": "markdown",
   "id": "a45ed587",
   "metadata": {},
   "source": [
    "## Изучение данных из файла"
   ]
  },
  {
   "cell_type": "markdown",
   "id": "29ffe668",
   "metadata": {},
   "source": [
    "Загрузим библиотеки, которые понадобятся."
   ]
  },
  {
   "cell_type": "code",
   "execution_count": 1,
   "id": "a6d875c1",
   "metadata": {},
   "outputs": [],
   "source": [
    "import pandas as pd\n",
    "import numpy as np\n",
    "import math\n",
    "import matplotlib.pyplot as plt \n",
    "from scipy import stats as st\n",
    "from scipy.stats import norm\n",
    "from scipy.stats import mode\n",
    "import seaborn as sns \n",
    "\n",
    "\n",
    "import warnings\n",
    "warnings.filterwarnings('ignore')"
   ]
  },
  {
   "cell_type": "markdown",
   "id": "6150a0c6",
   "metadata": {},
   "source": [
    "Прочитаем файл csv и сохраним его"
   ]
  },
  {
   "cell_type": "code",
   "execution_count": 2,
   "id": "1de5625e",
   "metadata": {},
   "outputs": [
    {
     "data": {
      "text/html": [
       "<div>\n",
       "<style scoped>\n",
       "    .dataframe tbody tr th:only-of-type {\n",
       "        vertical-align: middle;\n",
       "    }\n",
       "\n",
       "    .dataframe tbody tr th {\n",
       "        vertical-align: top;\n",
       "    }\n",
       "\n",
       "    .dataframe thead th {\n",
       "        text-align: right;\n",
       "    }\n",
       "</style>\n",
       "<table border=\"1\" class=\"dataframe\">\n",
       "  <thead>\n",
       "    <tr style=\"text-align: right;\">\n",
       "      <th></th>\n",
       "      <th>Name</th>\n",
       "      <th>Platform</th>\n",
       "      <th>Year_of_Release</th>\n",
       "      <th>Genre</th>\n",
       "      <th>NA_sales</th>\n",
       "      <th>EU_sales</th>\n",
       "      <th>JP_sales</th>\n",
       "      <th>Other_sales</th>\n",
       "      <th>Critic_Score</th>\n",
       "      <th>User_Score</th>\n",
       "      <th>Rating</th>\n",
       "    </tr>\n",
       "  </thead>\n",
       "  <tbody>\n",
       "    <tr>\n",
       "      <td>0</td>\n",
       "      <td>Wii Sports</td>\n",
       "      <td>Wii</td>\n",
       "      <td>2006.0</td>\n",
       "      <td>Sports</td>\n",
       "      <td>41.36</td>\n",
       "      <td>28.96</td>\n",
       "      <td>3.77</td>\n",
       "      <td>8.45</td>\n",
       "      <td>76.0</td>\n",
       "      <td>8</td>\n",
       "      <td>E</td>\n",
       "    </tr>\n",
       "    <tr>\n",
       "      <td>1</td>\n",
       "      <td>Super Mario Bros.</td>\n",
       "      <td>NES</td>\n",
       "      <td>1985.0</td>\n",
       "      <td>Platform</td>\n",
       "      <td>29.08</td>\n",
       "      <td>3.58</td>\n",
       "      <td>6.81</td>\n",
       "      <td>0.77</td>\n",
       "      <td>NaN</td>\n",
       "      <td>NaN</td>\n",
       "      <td>NaN</td>\n",
       "    </tr>\n",
       "    <tr>\n",
       "      <td>2</td>\n",
       "      <td>Mario Kart Wii</td>\n",
       "      <td>Wii</td>\n",
       "      <td>2008.0</td>\n",
       "      <td>Racing</td>\n",
       "      <td>15.68</td>\n",
       "      <td>12.76</td>\n",
       "      <td>3.79</td>\n",
       "      <td>3.29</td>\n",
       "      <td>82.0</td>\n",
       "      <td>8.3</td>\n",
       "      <td>E</td>\n",
       "    </tr>\n",
       "    <tr>\n",
       "      <td>3</td>\n",
       "      <td>Wii Sports Resort</td>\n",
       "      <td>Wii</td>\n",
       "      <td>2009.0</td>\n",
       "      <td>Sports</td>\n",
       "      <td>15.61</td>\n",
       "      <td>10.93</td>\n",
       "      <td>3.28</td>\n",
       "      <td>2.95</td>\n",
       "      <td>80.0</td>\n",
       "      <td>8</td>\n",
       "      <td>E</td>\n",
       "    </tr>\n",
       "    <tr>\n",
       "      <td>4</td>\n",
       "      <td>Pokemon Red/Pokemon Blue</td>\n",
       "      <td>GB</td>\n",
       "      <td>1996.0</td>\n",
       "      <td>Role-Playing</td>\n",
       "      <td>11.27</td>\n",
       "      <td>8.89</td>\n",
       "      <td>10.22</td>\n",
       "      <td>1.00</td>\n",
       "      <td>NaN</td>\n",
       "      <td>NaN</td>\n",
       "      <td>NaN</td>\n",
       "    </tr>\n",
       "  </tbody>\n",
       "</table>\n",
       "</div>"
      ],
      "text/plain": [
       "                       Name Platform  Year_of_Release         Genre  NA_sales  \\\n",
       "0                Wii Sports      Wii           2006.0        Sports     41.36   \n",
       "1         Super Mario Bros.      NES           1985.0      Platform     29.08   \n",
       "2            Mario Kart Wii      Wii           2008.0        Racing     15.68   \n",
       "3         Wii Sports Resort      Wii           2009.0        Sports     15.61   \n",
       "4  Pokemon Red/Pokemon Blue       GB           1996.0  Role-Playing     11.27   \n",
       "\n",
       "   EU_sales  JP_sales  Other_sales  Critic_Score User_Score Rating  \n",
       "0     28.96      3.77         8.45          76.0          8      E  \n",
       "1      3.58      6.81         0.77           NaN        NaN    NaN  \n",
       "2     12.76      3.79         3.29          82.0        8.3      E  \n",
       "3     10.93      3.28         2.95          80.0          8      E  \n",
       "4      8.89     10.22         1.00           NaN        NaN    NaN  "
      ]
     },
     "metadata": {},
     "output_type": "display_data"
    }
   ],
   "source": [
    "try:\n",
    "    games = pd.read_csv('/datasets/games.csv')\n",
    "except:\n",
    "    games = pd.read_csv('games.csv')\n",
    "display(games.head(5))"
   ]
  },
  {
   "cell_type": "markdown",
   "id": "1883b9bb",
   "metadata": {},
   "source": [
    "Описание данных\n",
    "\n",
    "•\tName — название игры\n",
    "\n",
    "•\tPlatform — платформа\n",
    "\n",
    "•\tYear_of_Release — год выпуска\n",
    "\n",
    "•\tGenre — жанр игры\n",
    "\n",
    "•\tNA_sales — продажи в Северной Америке (миллионы проданных копий)\n",
    "\n",
    "•\tEU_sales — продажи в Европе (миллионы проданных копий)\n",
    "\n",
    "•\tJP_sales — продажи в Японии (миллионы проданных копий)\n",
    "\n",
    "•\tOther_sales — продажи в других странах (миллионы проданных копий)\n",
    "\n",
    "•\tCritic_Score — оценка критиков (максимум 100)\n",
    "\n",
    "•\tUser_Score — оценка пользователей (максимум 10)\n",
    "\n",
    "•\tRating — рейтинг от организации ESRB (англ. Entertainment Software Rating Board). Эта ассоциация определяет рейтинг компьютерных игр и присваивает им подходящую возрастную категорию.\n"
   ]
  },
  {
   "cell_type": "code",
   "execution_count": 3,
   "id": "ec31c455",
   "metadata": {},
   "outputs": [
    {
     "name": "stdout",
     "output_type": "stream",
     "text": [
      "<class 'pandas.core.frame.DataFrame'>\n",
      "RangeIndex: 16715 entries, 0 to 16714\n",
      "Data columns (total 11 columns):\n",
      "Name               16713 non-null object\n",
      "Platform           16715 non-null object\n",
      "Year_of_Release    16446 non-null float64\n",
      "Genre              16713 non-null object\n",
      "NA_sales           16715 non-null float64\n",
      "EU_sales           16715 non-null float64\n",
      "JP_sales           16715 non-null float64\n",
      "Other_sales        16715 non-null float64\n",
      "Critic_Score       8137 non-null float64\n",
      "User_Score         10014 non-null object\n",
      "Rating             9949 non-null object\n",
      "dtypes: float64(6), object(5)\n",
      "memory usage: 1.4+ MB\n"
     ]
    }
   ],
   "source": [
    "# Общая информация\n",
    "games.info()"
   ]
  },
  {
   "cell_type": "markdown",
   "id": "d8f64549",
   "metadata": {},
   "source": [
    "Названия столбцов лучше привести к нижнему регистру. Тип данных в столбцах Year_of_Release, User_Score нужно привести к типу int, Year_of_Release - поскольку не задан месяц и день, можно также привести к типу int."
   ]
  },
  {
   "cell_type": "code",
   "execution_count": 4,
   "id": "25c0afce",
   "metadata": {},
   "outputs": [
    {
     "data": {
      "text/plain": [
       "Name                  2\n",
       "Platform              0\n",
       "Year_of_Release     269\n",
       "Genre                 2\n",
       "NA_sales              0\n",
       "EU_sales              0\n",
       "JP_sales              0\n",
       "Other_sales           0\n",
       "Critic_Score       8578\n",
       "User_Score         6701\n",
       "Rating             6766\n",
       "dtype: int64"
      ]
     },
     "execution_count": 4,
     "metadata": {},
     "output_type": "execute_result"
    }
   ],
   "source": [
    "# Количество нулевых строк\n",
    "games.isna().sum()"
   ]
  },
  {
   "cell_type": "markdown",
   "id": "fc69688e",
   "metadata": {},
   "source": [
    "Есть нулевые значения, прежде чем приступить к ислледовательсткому анализу, следует провести предобработку данных."
   ]
  },
  {
   "cell_type": "markdown",
   "id": "87cea240",
   "metadata": {},
   "source": [
    "#### Вывод\n",
    "\n",
    "Количество ненулевых объектов в строках разное, необходимо будет избавиться от нулевых значений, обработать пропуски. \n",
    "Тип данных в столбцах Year_of_Release, User_Score нужно привести к типу int. \n",
    "Также необходимо будет проверить данные на дубликаты."
   ]
  },
  {
   "cell_type": "markdown",
   "id": "d82e00e0",
   "metadata": {},
   "source": [
    "## Предобработка данных"
   ]
  },
  {
   "cell_type": "markdown",
   "id": "06857552",
   "metadata": {},
   "source": [
    "Заменим названия столбцов, приведя к нижнему регистру."
   ]
  },
  {
   "cell_type": "code",
   "execution_count": 5,
   "id": "af656e49",
   "metadata": {},
   "outputs": [],
   "source": [
    "# Приводим к нижнему регистру\n",
    "games.columns = games.columns.str.lower()"
   ]
  },
  {
   "cell_type": "code",
   "execution_count": 6,
   "id": "6c3c5ad3",
   "metadata": {},
   "outputs": [
    {
     "name": "stdout",
     "output_type": "stream",
     "text": [
      "Количество записей в name до понижения регистра - 11560\n",
      "Количество записей в name после понижения регистра - 11560\n"
     ]
    }
   ],
   "source": [
    "print('Количество записей в name до понижения регистра -', len(games['name'].unique()))\n",
    "games['name'] = games['name'].str.lower()\n",
    "print('Количество записей в name после понижения регистра -', len(games['name'].unique()))"
   ]
  },
  {
   "cell_type": "code",
   "execution_count": 7,
   "id": "f145ea6f",
   "metadata": {},
   "outputs": [
    {
     "name": "stdout",
     "output_type": "stream",
     "text": [
      "Количество записей в platform до понижения регистра - 31\n",
      "Количество записей в platform после понижения регистра - 31\n"
     ]
    }
   ],
   "source": [
    "print('Количество записей в platform до понижения регистра -', len(games['platform'].unique()))\n",
    "games['platform'] = games['platform'].str.lower()\n",
    "print('Количество записей в platform после понижения регистра -', len(games['platform'].unique()))"
   ]
  },
  {
   "cell_type": "markdown",
   "id": "d362abd6",
   "metadata": {},
   "source": [
    "Количество уникальных записей в name и platform не поменялось, значит в названиях нет дубликатов из-за разных регистров. Стоило проверить."
   ]
  },
  {
   "cell_type": "code",
   "execution_count": 8,
   "id": "95add080",
   "metadata": {},
   "outputs": [],
   "source": [
    "#Удаляем 2 строки с неизвестными наименованиями и жанрами\n",
    "games = games.dropna(subset = ['name'])\n",
    "games = games.dropna(subset = ['genre'])"
   ]
  },
  {
   "cell_type": "code",
   "execution_count": 9,
   "id": "f271d2d5",
   "metadata": {
    "scrolled": true
   },
   "outputs": [
    {
     "data": {
      "text/plain": [
       "need for speed: most wanted                                     12\n",
       "ratatouille                                                      9\n",
       "fifa 14                                                          9\n",
       "madden nfl 07                                                    9\n",
       "lego marvel super heroes                                         9\n",
       "                                                                ..\n",
       "nishijin pachinko monogatari 2                                   1\n",
       "final fantasy crystal chronicles: ring of fates                  1\n",
       "motogp 2: ultimate racing technology                             1\n",
       "katekyoo hitman reborn! ds: flame rumble hyper - moeyo mirai     1\n",
       "jikkyou powerful pro yakuu '94                                   1\n",
       "Name: name, Length: 11559, dtype: int64"
      ]
     },
     "execution_count": 9,
     "metadata": {},
     "output_type": "execute_result"
    }
   ],
   "source": [
    "games['name'].value_counts()"
   ]
  },
  {
   "cell_type": "markdown",
   "id": "b2b3e431",
   "metadata": {},
   "source": [
    "Строк с названием Need for Speed: Most Wanted 12, это значит, например, что они представлены на разных платформах, или есть дубликаты. Выведем строки с этой игрой."
   ]
  },
  {
   "cell_type": "code",
   "execution_count": 10,
   "id": "1d107eb8",
   "metadata": {
    "scrolled": true
   },
   "outputs": [
    {
     "data": {
      "text/html": [
       "<div>\n",
       "<style scoped>\n",
       "    .dataframe tbody tr th:only-of-type {\n",
       "        vertical-align: middle;\n",
       "    }\n",
       "\n",
       "    .dataframe tbody tr th {\n",
       "        vertical-align: top;\n",
       "    }\n",
       "\n",
       "    .dataframe thead th {\n",
       "        text-align: right;\n",
       "    }\n",
       "</style>\n",
       "<table border=\"1\" class=\"dataframe\">\n",
       "  <thead>\n",
       "    <tr style=\"text-align: right;\">\n",
       "      <th></th>\n",
       "      <th>name</th>\n",
       "      <th>platform</th>\n",
       "      <th>year_of_release</th>\n",
       "      <th>genre</th>\n",
       "      <th>na_sales</th>\n",
       "      <th>eu_sales</th>\n",
       "      <th>jp_sales</th>\n",
       "      <th>other_sales</th>\n",
       "      <th>critic_score</th>\n",
       "      <th>user_score</th>\n",
       "      <th>rating</th>\n",
       "    </tr>\n",
       "  </thead>\n",
       "  <tbody>\n",
       "    <tr>\n",
       "      <td>253</td>\n",
       "      <td>need for speed: most wanted</td>\n",
       "      <td>ps2</td>\n",
       "      <td>2005.0</td>\n",
       "      <td>Racing</td>\n",
       "      <td>2.03</td>\n",
       "      <td>1.79</td>\n",
       "      <td>0.08</td>\n",
       "      <td>0.47</td>\n",
       "      <td>82.0</td>\n",
       "      <td>9.1</td>\n",
       "      <td>T</td>\n",
       "    </tr>\n",
       "    <tr>\n",
       "      <td>523</td>\n",
       "      <td>need for speed: most wanted</td>\n",
       "      <td>ps3</td>\n",
       "      <td>2012.0</td>\n",
       "      <td>Racing</td>\n",
       "      <td>0.71</td>\n",
       "      <td>1.46</td>\n",
       "      <td>0.06</td>\n",
       "      <td>0.58</td>\n",
       "      <td>NaN</td>\n",
       "      <td>NaN</td>\n",
       "      <td>NaN</td>\n",
       "    </tr>\n",
       "    <tr>\n",
       "      <td>1190</td>\n",
       "      <td>need for speed: most wanted</td>\n",
       "      <td>x360</td>\n",
       "      <td>2012.0</td>\n",
       "      <td>Racing</td>\n",
       "      <td>0.62</td>\n",
       "      <td>0.78</td>\n",
       "      <td>0.01</td>\n",
       "      <td>0.15</td>\n",
       "      <td>83.0</td>\n",
       "      <td>8.5</td>\n",
       "      <td>T</td>\n",
       "    </tr>\n",
       "    <tr>\n",
       "      <td>1591</td>\n",
       "      <td>need for speed: most wanted</td>\n",
       "      <td>x360</td>\n",
       "      <td>2005.0</td>\n",
       "      <td>Racing</td>\n",
       "      <td>1.00</td>\n",
       "      <td>0.13</td>\n",
       "      <td>0.02</td>\n",
       "      <td>0.10</td>\n",
       "      <td>83.0</td>\n",
       "      <td>8.5</td>\n",
       "      <td>T</td>\n",
       "    </tr>\n",
       "    <tr>\n",
       "      <td>1998</td>\n",
       "      <td>need for speed: most wanted</td>\n",
       "      <td>xb</td>\n",
       "      <td>2005.0</td>\n",
       "      <td>Racing</td>\n",
       "      <td>0.53</td>\n",
       "      <td>0.46</td>\n",
       "      <td>0.00</td>\n",
       "      <td>0.05</td>\n",
       "      <td>83.0</td>\n",
       "      <td>8.8</td>\n",
       "      <td>T</td>\n",
       "    </tr>\n",
       "    <tr>\n",
       "      <td>2048</td>\n",
       "      <td>need for speed: most wanted</td>\n",
       "      <td>psv</td>\n",
       "      <td>2012.0</td>\n",
       "      <td>Racing</td>\n",
       "      <td>0.33</td>\n",
       "      <td>0.45</td>\n",
       "      <td>0.01</td>\n",
       "      <td>0.22</td>\n",
       "      <td>NaN</td>\n",
       "      <td>NaN</td>\n",
       "      <td>NaN</td>\n",
       "    </tr>\n",
       "    <tr>\n",
       "      <td>3581</td>\n",
       "      <td>need for speed: most wanted</td>\n",
       "      <td>gc</td>\n",
       "      <td>2005.0</td>\n",
       "      <td>Racing</td>\n",
       "      <td>0.43</td>\n",
       "      <td>0.11</td>\n",
       "      <td>0.00</td>\n",
       "      <td>0.02</td>\n",
       "      <td>80.0</td>\n",
       "      <td>9.1</td>\n",
       "      <td>T</td>\n",
       "    </tr>\n",
       "    <tr>\n",
       "      <td>5972</td>\n",
       "      <td>need for speed: most wanted</td>\n",
       "      <td>pc</td>\n",
       "      <td>2005.0</td>\n",
       "      <td>Racing</td>\n",
       "      <td>0.02</td>\n",
       "      <td>0.23</td>\n",
       "      <td>0.00</td>\n",
       "      <td>0.04</td>\n",
       "      <td>82.0</td>\n",
       "      <td>8.5</td>\n",
       "      <td>T</td>\n",
       "    </tr>\n",
       "    <tr>\n",
       "      <td>6273</td>\n",
       "      <td>need for speed: most wanted</td>\n",
       "      <td>wiiu</td>\n",
       "      <td>2013.0</td>\n",
       "      <td>Racing</td>\n",
       "      <td>0.13</td>\n",
       "      <td>0.12</td>\n",
       "      <td>0.00</td>\n",
       "      <td>0.02</td>\n",
       "      <td>NaN</td>\n",
       "      <td>NaN</td>\n",
       "      <td>NaN</td>\n",
       "    </tr>\n",
       "    <tr>\n",
       "      <td>6410</td>\n",
       "      <td>need for speed: most wanted</td>\n",
       "      <td>ds</td>\n",
       "      <td>2005.0</td>\n",
       "      <td>Racing</td>\n",
       "      <td>0.24</td>\n",
       "      <td>0.01</td>\n",
       "      <td>0.00</td>\n",
       "      <td>0.02</td>\n",
       "      <td>45.0</td>\n",
       "      <td>6.1</td>\n",
       "      <td>E</td>\n",
       "    </tr>\n",
       "    <tr>\n",
       "      <td>6473</td>\n",
       "      <td>need for speed: most wanted</td>\n",
       "      <td>gba</td>\n",
       "      <td>2005.0</td>\n",
       "      <td>Racing</td>\n",
       "      <td>0.19</td>\n",
       "      <td>0.07</td>\n",
       "      <td>0.00</td>\n",
       "      <td>0.00</td>\n",
       "      <td>NaN</td>\n",
       "      <td>8.3</td>\n",
       "      <td>E</td>\n",
       "    </tr>\n",
       "    <tr>\n",
       "      <td>11715</td>\n",
       "      <td>need for speed: most wanted</td>\n",
       "      <td>pc</td>\n",
       "      <td>2012.0</td>\n",
       "      <td>Racing</td>\n",
       "      <td>0.00</td>\n",
       "      <td>0.06</td>\n",
       "      <td>0.00</td>\n",
       "      <td>0.02</td>\n",
       "      <td>82.0</td>\n",
       "      <td>8.5</td>\n",
       "      <td>T</td>\n",
       "    </tr>\n",
       "  </tbody>\n",
       "</table>\n",
       "</div>"
      ],
      "text/plain": [
       "                              name platform  year_of_release   genre  \\\n",
       "253    need for speed: most wanted      ps2           2005.0  Racing   \n",
       "523    need for speed: most wanted      ps3           2012.0  Racing   \n",
       "1190   need for speed: most wanted     x360           2012.0  Racing   \n",
       "1591   need for speed: most wanted     x360           2005.0  Racing   \n",
       "1998   need for speed: most wanted       xb           2005.0  Racing   \n",
       "2048   need for speed: most wanted      psv           2012.0  Racing   \n",
       "3581   need for speed: most wanted       gc           2005.0  Racing   \n",
       "5972   need for speed: most wanted       pc           2005.0  Racing   \n",
       "6273   need for speed: most wanted     wiiu           2013.0  Racing   \n",
       "6410   need for speed: most wanted       ds           2005.0  Racing   \n",
       "6473   need for speed: most wanted      gba           2005.0  Racing   \n",
       "11715  need for speed: most wanted       pc           2012.0  Racing   \n",
       "\n",
       "       na_sales  eu_sales  jp_sales  other_sales  critic_score user_score  \\\n",
       "253        2.03      1.79      0.08         0.47          82.0        9.1   \n",
       "523        0.71      1.46      0.06         0.58           NaN        NaN   \n",
       "1190       0.62      0.78      0.01         0.15          83.0        8.5   \n",
       "1591       1.00      0.13      0.02         0.10          83.0        8.5   \n",
       "1998       0.53      0.46      0.00         0.05          83.0        8.8   \n",
       "2048       0.33      0.45      0.01         0.22           NaN        NaN   \n",
       "3581       0.43      0.11      0.00         0.02          80.0        9.1   \n",
       "5972       0.02      0.23      0.00         0.04          82.0        8.5   \n",
       "6273       0.13      0.12      0.00         0.02           NaN        NaN   \n",
       "6410       0.24      0.01      0.00         0.02          45.0        6.1   \n",
       "6473       0.19      0.07      0.00         0.00           NaN        8.3   \n",
       "11715      0.00      0.06      0.00         0.02          82.0        8.5   \n",
       "\n",
       "      rating  \n",
       "253        T  \n",
       "523      NaN  \n",
       "1190       T  \n",
       "1591       T  \n",
       "1998       T  \n",
       "2048     NaN  \n",
       "3581       T  \n",
       "5972       T  \n",
       "6273     NaN  \n",
       "6410       E  \n",
       "6473       E  \n",
       "11715      T  "
      ]
     },
     "execution_count": 10,
     "metadata": {},
     "output_type": "execute_result"
    }
   ],
   "source": [
    "(games.query('name == \"need for speed: most wanted\"'))"
   ]
  },
  {
   "cell_type": "markdown",
   "id": "fcb72a06",
   "metadata": {},
   "source": [
    "Пропуски в пользовательских рейтингах user_score и critic_score не будем заполнять - любое заполнение исказит результаты корреляционного анализа и стат-тестов. Пропуски по году релиза в некоторых строках можно попробовать заполнить по наименованию игр. В целом, можно удалить эти строки, поскольку пропущенных значений не так много.\n",
    "Вероятно, пропуски появились при соединении нескольких таблиц."
   ]
  },
  {
   "cell_type": "code",
   "execution_count": 11,
   "id": "a7ebd80a",
   "metadata": {},
   "outputs": [
    {
     "name": "stdout",
     "output_type": "stream",
     "text": [
      "Пропуски до year_of_release - 269\n",
      "Пропуски после year_of_release - 146\n"
     ]
    }
   ],
   "source": [
    "#заполняем пропущенные значения в year_of_release, группируя по наименованию и заполняя медианой\n",
    "print('Пропуски до year_of_release -', games['year_of_release'].isna().sum())\n",
    "games['year_of_release'] = games['year_of_release'].fillna(games.groupby('name')['year_of_release'].transform('median'))\n",
    "print('Пропуски после year_of_release -', games['year_of_release'].isna().sum())"
   ]
  },
  {
   "cell_type": "code",
   "execution_count": 12,
   "id": "7e05d0e2",
   "metadata": {},
   "outputs": [
    {
     "name": "stdout",
     "output_type": "stream",
     "text": [
      "нулевых строк year_of_release - 0\n"
     ]
    }
   ],
   "source": [
    "#Удалим нулевые строки year_of_release \n",
    "games = games.dropna(subset = ['year_of_release'])\n",
    "print('нулевых строк year_of_release -', games['year_of_release'].isna().sum())\n",
    "games['year_of_release'] = games['year_of_release'].astype('int')"
   ]
  },
  {
   "cell_type": "code",
   "execution_count": 13,
   "id": "605426ee",
   "metadata": {},
   "outputs": [
    {
     "name": "stdout",
     "output_type": "stream",
     "text": [
      "Количество дубликатов - 0\n"
     ]
    }
   ],
   "source": [
    "#Проверка на дубликаты\n",
    "print('Количество дубликатов -', games.duplicated().sum())"
   ]
  },
  {
   "cell_type": "code",
   "execution_count": 14,
   "id": "5b69a4e5",
   "metadata": {
    "scrolled": true
   },
   "outputs": [
    {
     "data": {
      "text/plain": [
       "tbd    2394\n",
       "7.8     324\n",
       "8       288\n",
       "8.2     279\n",
       "8.3     253\n",
       "       ... \n",
       "0.5       2\n",
       "1.1       2\n",
       "1.5       2\n",
       "0         1\n",
       "9.7       1\n",
       "Name: user_score, Length: 96, dtype: int64"
      ]
     },
     "execution_count": 14,
     "metadata": {},
     "output_type": "execute_result"
    }
   ],
   "source": [
    "#Проверка типов значений в user_score\n",
    "games['user_score'].value_counts()"
   ]
  },
  {
   "cell_type": "markdown",
   "id": "f35c7aab",
   "metadata": {},
   "source": [
    "Тип tbd означает To Be Determined, те значение не определено. Этих данных у нас нет, пропусков много, около 15% от всей таблицы. Заполнить эти строки не получится, любое заполнение исказит результаты, поэтому оставим только те строки, в которых есть user_score. Для анализа, связанного с рейтингами возьмем отдельную таблицу games_sc, где не будет пропущенных данных critic_score, user_score, rating\n",
    "\n",
    "Посчитаем суммарные продажи во всех регионах, запишем их в отдельный столбец sales"
   ]
  },
  {
   "cell_type": "code",
   "execution_count": 15,
   "id": "c7b4597b",
   "metadata": {},
   "outputs": [
    {
     "data": {
      "text/plain": [
       "E       3958\n",
       "T       2930\n",
       "M       1554\n",
       "E10+    1412\n",
       "EC         8\n",
       "K-A        3\n",
       "RP         2\n",
       "AO         1\n",
       "Name: rating, dtype: int64"
      ]
     },
     "execution_count": 15,
     "metadata": {},
     "output_type": "execute_result"
    }
   ],
   "source": [
    "games['rating'].value_counts()"
   ]
  },
  {
   "cell_type": "code",
   "execution_count": 16,
   "id": "49721036",
   "metadata": {},
   "outputs": [
    {
     "data": {
      "text/html": [
       "<div>\n",
       "<style scoped>\n",
       "    .dataframe tbody tr th:only-of-type {\n",
       "        vertical-align: middle;\n",
       "    }\n",
       "\n",
       "    .dataframe tbody tr th {\n",
       "        vertical-align: top;\n",
       "    }\n",
       "\n",
       "    .dataframe thead th {\n",
       "        text-align: right;\n",
       "    }\n",
       "</style>\n",
       "<table border=\"1\" class=\"dataframe\">\n",
       "  <thead>\n",
       "    <tr style=\"text-align: right;\">\n",
       "      <th></th>\n",
       "      <th>name</th>\n",
       "      <th>platform</th>\n",
       "      <th>year_of_release</th>\n",
       "      <th>genre</th>\n",
       "      <th>na_sales</th>\n",
       "      <th>eu_sales</th>\n",
       "      <th>jp_sales</th>\n",
       "      <th>other_sales</th>\n",
       "      <th>critic_score</th>\n",
       "      <th>user_score</th>\n",
       "      <th>rating</th>\n",
       "      <th>sales</th>\n",
       "    </tr>\n",
       "  </thead>\n",
       "  <tbody>\n",
       "    <tr>\n",
       "      <td>899</td>\n",
       "      <td>red faction</td>\n",
       "      <td>ps2</td>\n",
       "      <td>2001</td>\n",
       "      <td>Shooter</td>\n",
       "      <td>0.76</td>\n",
       "      <td>0.96</td>\n",
       "      <td>0.0</td>\n",
       "      <td>0.20</td>\n",
       "      <td>88.0</td>\n",
       "      <td>8</td>\n",
       "      <td>M</td>\n",
       "      <td>1.72</td>\n",
       "    </tr>\n",
       "    <tr>\n",
       "      <td>1679</td>\n",
       "      <td>nfl 2k</td>\n",
       "      <td>dc</td>\n",
       "      <td>1999</td>\n",
       "      <td>Sports</td>\n",
       "      <td>1.12</td>\n",
       "      <td>0.05</td>\n",
       "      <td>0.0</td>\n",
       "      <td>0.02</td>\n",
       "      <td>NaN</td>\n",
       "      <td>NaN</td>\n",
       "      <td>NaN</td>\n",
       "      <td>1.17</td>\n",
       "    </tr>\n",
       "    <tr>\n",
       "      <td>2798</td>\n",
       "      <td>wwe smackdown vs. raw 2010</td>\n",
       "      <td>wii</td>\n",
       "      <td>2009</td>\n",
       "      <td>Fighting</td>\n",
       "      <td>0.49</td>\n",
       "      <td>0.17</td>\n",
       "      <td>0.0</td>\n",
       "      <td>0.06</td>\n",
       "      <td>78.0</td>\n",
       "      <td>7.7</td>\n",
       "      <td>T</td>\n",
       "      <td>0.66</td>\n",
       "    </tr>\n",
       "    <tr>\n",
       "      <td>3267</td>\n",
       "      <td>start the party!</td>\n",
       "      <td>ps3</td>\n",
       "      <td>2010</td>\n",
       "      <td>Misc</td>\n",
       "      <td>0.07</td>\n",
       "      <td>0.41</td>\n",
       "      <td>0.0</td>\n",
       "      <td>0.13</td>\n",
       "      <td>NaN</td>\n",
       "      <td>NaN</td>\n",
       "      <td>NaN</td>\n",
       "      <td>0.48</td>\n",
       "    </tr>\n",
       "    <tr>\n",
       "      <td>2379</td>\n",
       "      <td>gex</td>\n",
       "      <td>ps</td>\n",
       "      <td>1995</td>\n",
       "      <td>Platform</td>\n",
       "      <td>0.49</td>\n",
       "      <td>0.33</td>\n",
       "      <td>0.0</td>\n",
       "      <td>0.06</td>\n",
       "      <td>NaN</td>\n",
       "      <td>NaN</td>\n",
       "      <td>NaN</td>\n",
       "      <td>0.82</td>\n",
       "    </tr>\n",
       "  </tbody>\n",
       "</table>\n",
       "</div>"
      ],
      "text/plain": [
       "                            name platform  year_of_release     genre  \\\n",
       "899                  red faction      ps2             2001   Shooter   \n",
       "1679                      nfl 2k       dc             1999    Sports   \n",
       "2798  wwe smackdown vs. raw 2010      wii             2009  Fighting   \n",
       "3267            start the party!      ps3             2010      Misc   \n",
       "2379                         gex       ps             1995  Platform   \n",
       "\n",
       "      na_sales  eu_sales  jp_sales  other_sales  critic_score user_score  \\\n",
       "899       0.76      0.96       0.0         0.20          88.0          8   \n",
       "1679      1.12      0.05       0.0         0.02           NaN        NaN   \n",
       "2798      0.49      0.17       0.0         0.06          78.0        7.7   \n",
       "3267      0.07      0.41       0.0         0.13           NaN        NaN   \n",
       "2379      0.49      0.33       0.0         0.06           NaN        NaN   \n",
       "\n",
       "     rating  sales  \n",
       "899       M   1.72  \n",
       "1679    NaN   1.17  \n",
       "2798      T   0.66  \n",
       "3267    NaN   0.48  \n",
       "2379    NaN   0.82  "
      ]
     },
     "execution_count": 16,
     "metadata": {},
     "output_type": "execute_result"
    }
   ],
   "source": [
    "#функция суммирует продажи \n",
    "def summ_sales(row):\n",
    "    return(row['na_sales'] + row['eu_sales'] + row['jp_sales'])\n",
    "\n",
    "#функция суммирует продажи     \n",
    "games['sales'] = games.apply(summ_sales, axis=1)\n",
    "games.sample(5)"
   ]
  },
  {
   "cell_type": "code",
   "execution_count": 17,
   "id": "71059433",
   "metadata": {},
   "outputs": [],
   "source": [
    "# Удалим строки c редкими значениями рейтинга\n",
    "games = games.drop(games[games['rating'] == \"EC\"].index)\n",
    "games = games.drop(games[games['rating'] == \"K-A\"].index)\n",
    "games = games.drop(games[games['rating'] == \"RP\"].index)\n",
    "games = games.drop(games[games['rating'] == \"AO\"].index)"
   ]
  },
  {
   "cell_type": "markdown",
   "id": "5e1d17d9",
   "metadata": {},
   "source": [
    "Проверив кол-во значений рейтинга, можно сделать вывод что есть редкие значения (ЕС, К-А, RP, AO), которые составляют пернебрежимо малую долю, эти строки можно удалить."
   ]
  },
  {
   "cell_type": "code",
   "execution_count": 18,
   "id": "1d9f0b77",
   "metadata": {},
   "outputs": [
    {
     "name": "stdout",
     "output_type": "stream",
     "text": [
      "<class 'pandas.core.frame.DataFrame'>\n",
      "Int64Index: 6897 entries, 0 to 16702\n",
      "Data columns (total 12 columns):\n",
      "name               6897 non-null object\n",
      "platform           6897 non-null object\n",
      "year_of_release    6897 non-null int64\n",
      "genre              6897 non-null object\n",
      "na_sales           6897 non-null float64\n",
      "eu_sales           6897 non-null float64\n",
      "jp_sales           6897 non-null float64\n",
      "other_sales        6897 non-null float64\n",
      "critic_score       6897 non-null float64\n",
      "user_score         6897 non-null float64\n",
      "rating             6897 non-null object\n",
      "sales              6897 non-null float64\n",
      "dtypes: float64(7), int64(1), object(4)\n",
      "memory usage: 700.5+ KB\n"
     ]
    }
   ],
   "source": [
    "# Создадим копию таблицы, которая понадобится для анализа, связанного с рейтингом\n",
    "games_sc = games.copy()\n",
    "# Удалим нулевые строки\n",
    "games_sc = games_sc.dropna(subset = ['critic_score'])\n",
    "games_sc = games_sc.dropna(subset = ['user_score'])\n",
    "games_sc = games_sc.dropna(subset = ['rating'])\n",
    "\n",
    "# Удалим строки с tbd\n",
    "games_sc = games_sc.drop(games_sc[games_sc['user_score'] == \"tbd\"].index)\n",
    "\n",
    "# Поменяем тип данных\n",
    "games_sc['user_score'] = games_sc['user_score'].astype('float64')\n",
    "games_sc.info()"
   ]
  },
  {
   "cell_type": "markdown",
   "id": "20a828f8",
   "metadata": {},
   "source": [
    "#### Вывод\n",
    "\n",
    "Данные обработаны, названия столбцов приведены к нижнему регистру, данные проверены на дубликаты, преобразованы к типу, подходящему для исследований. \n",
    "\n",
    "Пропуски в данных обработаны, создана таблица games_sc, в которой отсутствуют пропуски в столбцах critic_score, user_score, rating, те пригодная для анализа связанного с рейтингами. "
   ]
  },
  {
   "cell_type": "code",
   "execution_count": 19,
   "id": "5b86c51e",
   "metadata": {},
   "outputs": [
    {
     "name": "stdout",
     "output_type": "stream",
     "text": [
      "<class 'pandas.core.frame.DataFrame'>\n",
      "Int64Index: 6897 entries, 0 to 16702\n",
      "Data columns (total 12 columns):\n",
      "name               6897 non-null object\n",
      "platform           6897 non-null object\n",
      "year_of_release    6897 non-null int64\n",
      "genre              6897 non-null object\n",
      "na_sales           6897 non-null float64\n",
      "eu_sales           6897 non-null float64\n",
      "jp_sales           6897 non-null float64\n",
      "other_sales        6897 non-null float64\n",
      "critic_score       6897 non-null float64\n",
      "user_score         6897 non-null float64\n",
      "rating             6897 non-null object\n",
      "sales              6897 non-null float64\n",
      "dtypes: float64(7), int64(1), object(4)\n",
      "memory usage: 2.2 MB\n"
     ]
    }
   ],
   "source": [
    "#информация о games_sc\n",
    "games_sc.info(memory_usage='deep')"
   ]
  },
  {
   "cell_type": "code",
   "execution_count": 81,
   "id": "687613f7",
   "metadata": {},
   "outputs": [],
   "source": [
    "#переведем данные в столбцах rating, genre, platform к типу category для уменьшения объема задействованной памяти\n",
    "games_sc['rating'] = games_sc['rating'].astype('category')\n",
    "games['rating'] = games['rating'].astype('category')"
   ]
  },
  {
   "cell_type": "code",
   "execution_count": 75,
   "id": "4fbcd3f6",
   "metadata": {},
   "outputs": [
    {
     "name": "stdout",
     "output_type": "stream",
     "text": [
      "<class 'pandas.core.frame.DataFrame'>\n",
      "Int64Index: 6897 entries, 0 to 16702\n",
      "Data columns (total 12 columns):\n",
      "name               6897 non-null object\n",
      "platform           6897 non-null category\n",
      "year_of_release    6897 non-null int64\n",
      "genre              6897 non-null object\n",
      "na_sales           6897 non-null float64\n",
      "eu_sales           6897 non-null float64\n",
      "jp_sales           6897 non-null float64\n",
      "other_sales        6897 non-null float64\n",
      "critic_score       6897 non-null float64\n",
      "user_score         6897 non-null float64\n",
      "rating             6897 non-null category\n",
      "sales              6897 non-null float64\n",
      "dtypes: category(2), float64(7), int64(1), object(2)\n",
      "memory usage: 1.6 MB\n"
     ]
    }
   ],
   "source": [
    "#информация о games_sc после преобарзования типов данных\n",
    "games_sc.info(memory_usage='deep')"
   ]
  },
  {
   "cell_type": "markdown",
   "id": "2bd0558d",
   "metadata": {},
   "source": [
    "## Исследовательский анализ данных"
   ]
  },
  {
   "cell_type": "markdown",
   "id": "7bc086fc",
   "metadata": {},
   "source": [
    "Посмотрим, сколько игр выпускалось в разные годы."
   ]
  },
  {
   "cell_type": "code",
   "execution_count": 76,
   "id": "6d6ce22f",
   "metadata": {},
   "outputs": [],
   "source": [
    "#Сводная таблица для количества релизов по годам \n",
    "games_year_piv = games.pivot_table(index = 'year_of_release', values = ['genre'] , aggfunc=['count'])\n",
    "games_year_piv.columns = ['count_games']"
   ]
  },
  {
   "cell_type": "code",
   "execution_count": 77,
   "id": "14ca5f80",
   "metadata": {},
   "outputs": [
    {
     "data": {
      "image/png": "[encoded data removed]",
      "text/plain": [
       "<Figure size 864x432 with 1 Axes>"
      ]
     },
     "metadata": {},
     "output_type": "display_data"
    }
   ],
   "source": [
    "#Построим график\n",
    "games_year_piv.plot(y='count_games', style='--', grid=True, figsize=(12, 6), lw=2, alpha=0.5)\n",
    "plt.title('Суммарное количество проданных игр по годам')\n",
    "plt.ylabel('Количество релизов')\n",
    "plt.xlabel('Года')\n",
    "plt.show()"
   ]
  },
  {
   "cell_type": "markdown",
   "id": "971ee75d",
   "metadata": {},
   "source": [
    "Основной пик продаж обычно бывает в год выпуска и мы относим продажи к году выхода игры.\n",
    "\n",
    "По графику видно, что количество релизов игр до 1995 года не так велико, игр выпускалось до 200, этот период не показателен и можем рассматривать только период от 1995.\n",
    "\n",
    "Посмотрим, как менялись продажи по платформам и по годам. Для этого выберем самые популярные платформы."
   ]
  },
  {
   "cell_type": "code",
   "execution_count": 78,
   "id": "09056380",
   "metadata": {},
   "outputs": [
    {
     "name": "stdout",
     "output_type": "stream",
     "text": [
      "Всего количество платформ - 31\n"
     ]
    }
   ],
   "source": [
    "#Сводная таблица для количества игр по платформам\n",
    "games_pl = games.pivot_table(index = ['platform'], values = ['sales'] , aggfunc=['sum'])\n",
    "games_pl.columns = ['sum']\n",
    "games_pl = games_pl.sort_values(by = 'sum', ascending = False)\n",
    "print('Всего количество платформ -', games_pl.shape[0])"
   ]
  },
  {
   "cell_type": "markdown",
   "id": "dadffaf7",
   "metadata": {},
   "source": [
    "Поскольку платформ много, 31, выберем для анализа самые популярные 5 платформ."
   ]
  },
  {
   "cell_type": "code",
   "execution_count": 79,
   "id": "b487704b",
   "metadata": {},
   "outputs": [
    {
     "data": {
      "text/html": [
       "<div>\n",
       "<style scoped>\n",
       "    .dataframe tbody tr th:only-of-type {\n",
       "        vertical-align: middle;\n",
       "    }\n",
       "\n",
       "    .dataframe tbody tr th {\n",
       "        vertical-align: top;\n",
       "    }\n",
       "\n",
       "    .dataframe thead th {\n",
       "        text-align: right;\n",
       "    }\n",
       "</style>\n",
       "<table border=\"1\" class=\"dataframe\">\n",
       "  <thead>\n",
       "    <tr style=\"text-align: right;\">\n",
       "      <th></th>\n",
       "      <th>sum</th>\n",
       "    </tr>\n",
       "    <tr>\n",
       "      <th>platform</th>\n",
       "      <th></th>\n",
       "    </tr>\n",
       "  </thead>\n",
       "  <tbody>\n",
       "    <tr>\n",
       "      <td>ps2</td>\n",
       "      <td>1054.67</td>\n",
       "    </tr>\n",
       "    <tr>\n",
       "      <td>x360</td>\n",
       "      <td>881.27</td>\n",
       "    </tr>\n",
       "    <tr>\n",
       "      <td>wii</td>\n",
       "      <td>823.92</td>\n",
       "    </tr>\n",
       "    <tr>\n",
       "      <td>ps3</td>\n",
       "      <td>800.09</td>\n",
       "    </tr>\n",
       "    <tr>\n",
       "      <td>ds</td>\n",
       "      <td>744.51</td>\n",
       "    </tr>\n",
       "  </tbody>\n",
       "</table>\n",
       "</div>"
      ],
      "text/plain": [
       "              sum\n",
       "platform         \n",
       "ps2       1054.67\n",
       "x360       881.27\n",
       "wii        823.92\n",
       "ps3        800.09\n",
       "ds         744.51"
      ]
     },
     "execution_count": 79,
     "metadata": {},
     "output_type": "execute_result"
    }
   ],
   "source": [
    "games_pl_max = games_pl.iloc[:5]\n",
    "games_pl_max"
   ]
  },
  {
   "cell_type": "code",
   "execution_count": 80,
   "id": "674f1110",
   "metadata": {},
   "outputs": [
    {
     "data": {
      "text/html": [
       "<div>\n",
       "<style scoped>\n",
       "    .dataframe tbody tr th:only-of-type {\n",
       "        vertical-align: middle;\n",
       "    }\n",
       "\n",
       "    .dataframe tbody tr th {\n",
       "        vertical-align: top;\n",
       "    }\n",
       "\n",
       "    .dataframe thead tr th {\n",
       "        text-align: left;\n",
       "    }\n",
       "\n",
       "    .dataframe thead tr:last-of-type th {\n",
       "        text-align: right;\n",
       "    }\n",
       "</style>\n",
       "<table border=\"1\" class=\"dataframe\">\n",
       "  <thead>\n",
       "    <tr>\n",
       "      <th></th>\n",
       "      <th colspan=\"5\" halign=\"left\">sum</th>\n",
       "    </tr>\n",
       "    <tr>\n",
       "      <th></th>\n",
       "      <th colspan=\"5\" halign=\"left\">sales</th>\n",
       "    </tr>\n",
       "    <tr>\n",
       "      <th>platform</th>\n",
       "      <th>ds</th>\n",
       "      <th>ps2</th>\n",
       "      <th>ps3</th>\n",
       "      <th>wii</th>\n",
       "      <th>x360</th>\n",
       "    </tr>\n",
       "    <tr>\n",
       "      <th>year_of_release</th>\n",
       "      <th></th>\n",
       "      <th></th>\n",
       "      <th></th>\n",
       "      <th></th>\n",
       "      <th></th>\n",
       "    </tr>\n",
       "  </thead>\n",
       "  <tbody>\n",
       "    <tr>\n",
       "      <td>2000</td>\n",
       "      <td>NaN</td>\n",
       "      <td>35.59</td>\n",
       "      <td>NaN</td>\n",
       "      <td>NaN</td>\n",
       "      <td>NaN</td>\n",
       "    </tr>\n",
       "    <tr>\n",
       "      <td>2001</td>\n",
       "      <td>NaN</td>\n",
       "      <td>149.65</td>\n",
       "      <td>NaN</td>\n",
       "      <td>NaN</td>\n",
       "      <td>NaN</td>\n",
       "    </tr>\n",
       "    <tr>\n",
       "      <td>2002</td>\n",
       "      <td>NaN</td>\n",
       "      <td>186.26</td>\n",
       "      <td>NaN</td>\n",
       "      <td>NaN</td>\n",
       "      <td>NaN</td>\n",
       "    </tr>\n",
       "    <tr>\n",
       "      <td>2003</td>\n",
       "      <td>NaN</td>\n",
       "      <td>171.14</td>\n",
       "      <td>NaN</td>\n",
       "      <td>NaN</td>\n",
       "      <td>NaN</td>\n",
       "    </tr>\n",
       "    <tr>\n",
       "      <td>2004</td>\n",
       "      <td>15.91</td>\n",
       "      <td>172.79</td>\n",
       "      <td>NaN</td>\n",
       "      <td>NaN</td>\n",
       "      <td>NaN</td>\n",
       "    </tr>\n",
       "    <tr>\n",
       "      <td>2005</td>\n",
       "      <td>119.34</td>\n",
       "      <td>141.52</td>\n",
       "      <td>0.15</td>\n",
       "      <td>NaN</td>\n",
       "      <td>8.51</td>\n",
       "    </tr>\n",
       "    <tr>\n",
       "      <td>2006</td>\n",
       "      <td>111.64</td>\n",
       "      <td>89.70</td>\n",
       "      <td>17.78</td>\n",
       "      <td>126.37</td>\n",
       "      <td>47.36</td>\n",
       "    </tr>\n",
       "    <tr>\n",
       "      <td>2007</td>\n",
       "      <td>136.12</td>\n",
       "      <td>52.40</td>\n",
       "      <td>62.48</td>\n",
       "      <td>139.79</td>\n",
       "      <td>86.68</td>\n",
       "    </tr>\n",
       "    <tr>\n",
       "      <td>2008</td>\n",
       "      <td>134.42</td>\n",
       "      <td>34.59</td>\n",
       "      <td>102.03</td>\n",
       "      <td>162.17</td>\n",
       "      <td>123.29</td>\n",
       "    </tr>\n",
       "    <tr>\n",
       "      <td>2009</td>\n",
       "      <td>110.82</td>\n",
       "      <td>16.24</td>\n",
       "      <td>113.08</td>\n",
       "      <td>189.43</td>\n",
       "      <td>109.74</td>\n",
       "    </tr>\n",
       "    <tr>\n",
       "      <td>2010</td>\n",
       "      <td>79.79</td>\n",
       "      <td>4.44</td>\n",
       "      <td>122.06</td>\n",
       "      <td>117.79</td>\n",
       "      <td>156.28</td>\n",
       "    </tr>\n",
       "    <tr>\n",
       "      <td>2011</td>\n",
       "      <td>24.02</td>\n",
       "      <td>0.35</td>\n",
       "      <td>136.21</td>\n",
       "      <td>54.50</td>\n",
       "      <td>132.38</td>\n",
       "    </tr>\n",
       "    <tr>\n",
       "      <td>2012</td>\n",
       "      <td>11.01</td>\n",
       "      <td>NaN</td>\n",
       "      <td>91.64</td>\n",
       "      <td>21.33</td>\n",
       "      <td>92.34</td>\n",
       "    </tr>\n",
       "    <tr>\n",
       "      <td>2013</td>\n",
       "      <td>1.42</td>\n",
       "      <td>NaN</td>\n",
       "      <td>95.85</td>\n",
       "      <td>7.87</td>\n",
       "      <td>80.82</td>\n",
       "    </tr>\n",
       "    <tr>\n",
       "      <td>2014</td>\n",
       "      <td>NaN</td>\n",
       "      <td>NaN</td>\n",
       "      <td>40.88</td>\n",
       "      <td>3.45</td>\n",
       "      <td>31.61</td>\n",
       "    </tr>\n",
       "    <tr>\n",
       "      <td>2015</td>\n",
       "      <td>NaN</td>\n",
       "      <td>NaN</td>\n",
       "      <td>14.70</td>\n",
       "      <td>1.05</td>\n",
       "      <td>10.86</td>\n",
       "    </tr>\n",
       "    <tr>\n",
       "      <td>2016</td>\n",
       "      <td>NaN</td>\n",
       "      <td>NaN</td>\n",
       "      <td>3.23</td>\n",
       "      <td>0.17</td>\n",
       "      <td>1.40</td>\n",
       "    </tr>\n",
       "  </tbody>\n",
       "</table>\n",
       "</div>"
      ],
      "text/plain": [
       "                    sum                                \n",
       "                  sales                                \n",
       "platform             ds     ps2     ps3     wii    x360\n",
       "year_of_release                                        \n",
       "2000                NaN   35.59     NaN     NaN     NaN\n",
       "2001                NaN  149.65     NaN     NaN     NaN\n",
       "2002                NaN  186.26     NaN     NaN     NaN\n",
       "2003                NaN  171.14     NaN     NaN     NaN\n",
       "2004              15.91  172.79     NaN     NaN     NaN\n",
       "2005             119.34  141.52    0.15     NaN    8.51\n",
       "2006             111.64   89.70   17.78  126.37   47.36\n",
       "2007             136.12   52.40   62.48  139.79   86.68\n",
       "2008             134.42   34.59  102.03  162.17  123.29\n",
       "2009             110.82   16.24  113.08  189.43  109.74\n",
       "2010              79.79    4.44  122.06  117.79  156.28\n",
       "2011              24.02    0.35  136.21   54.50  132.38\n",
       "2012              11.01     NaN   91.64   21.33   92.34\n",
       "2013               1.42     NaN   95.85    7.87   80.82\n",
       "2014                NaN     NaN   40.88    3.45   31.61\n",
       "2015                NaN     NaN   14.70    1.05   10.86\n",
       "2016                NaN     NaN    3.23    0.17    1.40"
      ]
     },
     "execution_count": 80,
     "metadata": {},
     "output_type": "execute_result"
    }
   ],
   "source": [
    "#Cоздадим сводную таблицу, в которой только эти платформы\n",
    "games_pl_piv =  games.query('platform in @games_pl_max.index & year_of_release > 1995').pivot_table(index = ['year_of_release'], columns = ['platform'], values = ['sales'] , aggfunc=['sum'])\n",
    "games_pl_piv"
   ]
  },
  {
   "cell_type": "code",
   "execution_count": 27,
   "id": "e648c7c8",
   "metadata": {},
   "outputs": [],
   "source": [
    "#Функция для графиков\n",
    "#Напишем функцию, строящую графики типа plot\n",
    "#датасет, название, ось х, ось у\n",
    "    \n",
    "def print_plot(x_data, title=\"\", xl=\"\", yl=\"\" ):    \n",
    "    x_data.plot(linewidth=3, alpha=0.7, figsize=(15,10), grid = True)\n",
    "    ax = plt.axes() \n",
    "    ax.set_title(title) #подписали заголовок\n",
    "    plt.xlabel(xl) #подписали ось х\n",
    "    plt.ylabel(yl) #подписали ось y\n",
    "    plt.legend()\n",
    "    plt.show()    "
   ]
  },
  {
   "cell_type": "code",
   "execution_count": 28,
   "id": "eb643a29",
   "metadata": {},
   "outputs": [
    {
     "data": {
      "image/png": "[encoded data removed]",
      "text/plain": [
       "<Figure size 1080x720 with 1 Axes>"
      ]
     },
     "metadata": {
      "needs_background": "light"
     },
     "output_type": "display_data"
    }
   ],
   "source": [
    "#Построим график\n",
    "#датасет, название, ось х, ось у\n",
    "print_plot(games_pl_piv, 'Распределение продаж по популярным платформам', 'Года релиза', 'Миллионы проданных копий в мире')"
   ]
  },
  {
   "cell_type": "markdown",
   "id": "7ec7d0b0",
   "metadata": {},
   "source": [
    "Судя по графику, распределения похожи на нормальное со смещением вправо. Подъем продаж более быстрый, чем спад, в основном за 2-3 года достигает пика по каждой платформе (кроме ps3, там более длительный подъем), около 2-3х лет находится вблизи пика, далее спад постепенный. В среднем, жизненный цикл платформ 10 лет. Помимо этого, данные за 2016 год могут быть неполными, поэтому наблюдается снижение по всем платформам к 2016.\n",
    "\n",
    "Чтобы спрогнозировать продажи на 2017 год, стоит выбрать интервал 2014-2016, период в 3 года показателен для оценки, понятна тенденция - рост, пик или спад. "
   ]
  },
  {
   "cell_type": "code",
   "execution_count": 29,
   "id": "28a2acfc",
   "metadata": {},
   "outputs": [
    {
     "name": "stdout",
     "output_type": "stream",
     "text": [
      "Количество записей за предыдущие 3 года - 1689\n"
     ]
    }
   ],
   "source": [
    "#Cоздадим таблицу games_act, в которой только актуальные для анализа года: 2014-2016\n",
    "games_act = games.query('year_of_release > 2013')\n",
    "print('Количество записей за предыдущие 3 года -', games_act.shape[0])"
   ]
  },
  {
   "cell_type": "markdown",
   "id": "f4420fe7",
   "metadata": {},
   "source": [
    "Посмотрим, какие платформы лидируют по продажам."
   ]
  },
  {
   "cell_type": "code",
   "execution_count": 30,
   "id": "970f730d",
   "metadata": {},
   "outputs": [
    {
     "name": "stdout",
     "output_type": "stream",
     "text": [
      "Всего количество платформ - 10\n"
     ]
    },
    {
     "data": {
      "text/html": [
       "<div>\n",
       "<style scoped>\n",
       "    .dataframe tbody tr th:only-of-type {\n",
       "        vertical-align: middle;\n",
       "    }\n",
       "\n",
       "    .dataframe tbody tr th {\n",
       "        vertical-align: top;\n",
       "    }\n",
       "\n",
       "    .dataframe thead th {\n",
       "        text-align: right;\n",
       "    }\n",
       "</style>\n",
       "<table border=\"1\" class=\"dataframe\">\n",
       "  <thead>\n",
       "    <tr style=\"text-align: right;\">\n",
       "      <th></th>\n",
       "      <th>sum_pl</th>\n",
       "    </tr>\n",
       "    <tr>\n",
       "      <th>platform</th>\n",
       "      <th></th>\n",
       "    </tr>\n",
       "  </thead>\n",
       "  <tbody>\n",
       "    <tr>\n",
       "      <td>ps4</td>\n",
       "      <td>243.67</td>\n",
       "    </tr>\n",
       "    <tr>\n",
       "      <td>xone</td>\n",
       "      <td>127.84</td>\n",
       "    </tr>\n",
       "    <tr>\n",
       "      <td>3ds</td>\n",
       "      <td>83.00</td>\n",
       "    </tr>\n",
       "    <tr>\n",
       "      <td>ps3</td>\n",
       "      <td>58.81</td>\n",
       "    </tr>\n",
       "    <tr>\n",
       "      <td>x360</td>\n",
       "      <td>43.87</td>\n",
       "    </tr>\n",
       "    <tr>\n",
       "      <td>wiiu</td>\n",
       "      <td>39.82</td>\n",
       "    </tr>\n",
       "    <tr>\n",
       "      <td>pc</td>\n",
       "      <td>25.20</td>\n",
       "    </tr>\n",
       "    <tr>\n",
       "      <td>psv</td>\n",
       "      <td>20.59</td>\n",
       "    </tr>\n",
       "    <tr>\n",
       "      <td>wii</td>\n",
       "      <td>4.67</td>\n",
       "    </tr>\n",
       "    <tr>\n",
       "      <td>psp</td>\n",
       "      <td>0.36</td>\n",
       "    </tr>\n",
       "  </tbody>\n",
       "</table>\n",
       "</div>"
      ],
      "text/plain": [
       "          sum_pl\n",
       "platform        \n",
       "ps4       243.67\n",
       "xone      127.84\n",
       "3ds        83.00\n",
       "ps3        58.81\n",
       "x360       43.87\n",
       "wiiu       39.82\n",
       "pc         25.20\n",
       "psv        20.59\n",
       "wii         4.67\n",
       "psp         0.36"
      ]
     },
     "execution_count": 30,
     "metadata": {},
     "output_type": "execute_result"
    }
   ],
   "source": [
    "#Сводная таблица для суммарных продаж игр по платформам за 2014-2016 года\n",
    "games_act_pl = games_act.pivot_table(index = ['platform'], values = ['sales'] , aggfunc=['sum'])\n",
    "games_act_pl.columns = ['sum_pl']\n",
    "games_act_pl = games_act_pl.sort_values(by = 'sum_pl', ascending = False)\n",
    "print('Всего количество платформ -', games_act_pl.shape[0])\n",
    "games_act_pl"
   ]
  },
  {
   "cell_type": "markdown",
   "id": "74da3903",
   "metadata": {},
   "source": [
    "По продажам лидируют ps4, xone, 3ds, ps3, x360. Но что с их динамикой продаж? Рассмотрим ее на графиках."
   ]
  },
  {
   "cell_type": "code",
   "execution_count": 31,
   "id": "cb5f9cc9",
   "metadata": {},
   "outputs": [
    {
     "data": {
      "text/html": [
       "<div>\n",
       "<style scoped>\n",
       "    .dataframe tbody tr th:only-of-type {\n",
       "        vertical-align: middle;\n",
       "    }\n",
       "\n",
       "    .dataframe tbody tr th {\n",
       "        vertical-align: top;\n",
       "    }\n",
       "\n",
       "    .dataframe thead tr th {\n",
       "        text-align: left;\n",
       "    }\n",
       "\n",
       "    .dataframe thead tr:last-of-type th {\n",
       "        text-align: right;\n",
       "    }\n",
       "</style>\n",
       "<table border=\"1\" class=\"dataframe\">\n",
       "  <thead>\n",
       "    <tr>\n",
       "      <th></th>\n",
       "      <th colspan=\"10\" halign=\"left\">sum</th>\n",
       "    </tr>\n",
       "    <tr>\n",
       "      <th></th>\n",
       "      <th colspan=\"10\" halign=\"left\">sales</th>\n",
       "    </tr>\n",
       "    <tr>\n",
       "      <th>platform</th>\n",
       "      <th>3ds</th>\n",
       "      <th>pc</th>\n",
       "      <th>ps3</th>\n",
       "      <th>ps4</th>\n",
       "      <th>psp</th>\n",
       "      <th>psv</th>\n",
       "      <th>wii</th>\n",
       "      <th>wiiu</th>\n",
       "      <th>x360</th>\n",
       "      <th>xone</th>\n",
       "    </tr>\n",
       "    <tr>\n",
       "      <th>year_of_release</th>\n",
       "      <th></th>\n",
       "      <th></th>\n",
       "      <th></th>\n",
       "      <th></th>\n",
       "      <th></th>\n",
       "      <th></th>\n",
       "      <th></th>\n",
       "      <th></th>\n",
       "      <th></th>\n",
       "      <th></th>\n",
       "    </tr>\n",
       "  </thead>\n",
       "  <tbody>\n",
       "    <tr>\n",
       "      <td>2014</td>\n",
       "      <td>41.75</td>\n",
       "      <td>12.38</td>\n",
       "      <td>40.88</td>\n",
       "      <td>84.22</td>\n",
       "      <td>0.24</td>\n",
       "      <td>10.56</td>\n",
       "      <td>3.45</td>\n",
       "      <td>20.35</td>\n",
       "      <td>31.61</td>\n",
       "      <td>49.26</td>\n",
       "    </tr>\n",
       "    <tr>\n",
       "      <td>2015</td>\n",
       "      <td>26.75</td>\n",
       "      <td>7.93</td>\n",
       "      <td>14.70</td>\n",
       "      <td>100.44</td>\n",
       "      <td>0.12</td>\n",
       "      <td>5.93</td>\n",
       "      <td>1.05</td>\n",
       "      <td>15.22</td>\n",
       "      <td>10.86</td>\n",
       "      <td>54.67</td>\n",
       "    </tr>\n",
       "    <tr>\n",
       "      <td>2016</td>\n",
       "      <td>14.50</td>\n",
       "      <td>4.89</td>\n",
       "      <td>3.23</td>\n",
       "      <td>59.01</td>\n",
       "      <td>NaN</td>\n",
       "      <td>4.10</td>\n",
       "      <td>0.17</td>\n",
       "      <td>4.25</td>\n",
       "      <td>1.40</td>\n",
       "      <td>23.91</td>\n",
       "    </tr>\n",
       "  </tbody>\n",
       "</table>\n",
       "</div>"
      ],
      "text/plain": [
       "                   sum                                                         \\\n",
       "                 sales                                                          \n",
       "platform           3ds     pc    ps3     ps4   psp    psv   wii   wiiu   x360   \n",
       "year_of_release                                                                 \n",
       "2014             41.75  12.38  40.88   84.22  0.24  10.56  3.45  20.35  31.61   \n",
       "2015             26.75   7.93  14.70  100.44  0.12   5.93  1.05  15.22  10.86   \n",
       "2016             14.50   4.89   3.23   59.01   NaN   4.10  0.17   4.25   1.40   \n",
       "\n",
       "                        \n",
       "                        \n",
       "platform          xone  \n",
       "year_of_release         \n",
       "2014             49.26  \n",
       "2015             54.67  \n",
       "2016             23.91  "
      ]
     },
     "execution_count": 31,
     "metadata": {},
     "output_type": "execute_result"
    }
   ],
   "source": [
    "#Cоздадим сводную таблицу для графика\n",
    "games_act_pl_piv = games_act.pivot_table(index = ['year_of_release'], columns = ['platform'], values = ['sales'] , aggfunc=['sum'])\n",
    "games_act_pl_piv"
   ]
  },
  {
   "cell_type": "code",
   "execution_count": 32,
   "id": "fe399b87",
   "metadata": {},
   "outputs": [
    {
     "data": {
      "image/png": "[encoded data removed]",
      "text/plain": [
       "<Figure size 1080x720 with 1 Axes>"
      ]
     },
     "metadata": {
      "needs_background": "light"
     },
     "output_type": "display_data"
    }
   ],
   "source": [
    "#Построим распределение продаж по годам по самым популярным платформам \n",
    "#датасет, название, ось х, ось у\n",
    "print_plot(games_act_pl_piv, 'Распределение продаж по популярным платформам', 'Года релиза', 'Миллионы проданных копий в мире')"
   ]
  },
  {
   "cell_type": "markdown",
   "id": "b4be6c2a",
   "metadata": {},
   "source": [
    "Видна тенденция к снижению объемов продаж. Стоит рассмотреть три самые крупные платформы: ps4, xone, 3ds. Это лидеры по продажам. Но на графике сливаются более мелкие игроки, создадим отдельный график для них и посмотрим тенденции, у каких из менее популярных платформ скорость падения продаж ниже."
   ]
  },
  {
   "cell_type": "code",
   "execution_count": 33,
   "id": "1548c993",
   "metadata": {},
   "outputs": [
    {
     "data": {
      "text/html": [
       "<div>\n",
       "<style scoped>\n",
       "    .dataframe tbody tr th:only-of-type {\n",
       "        vertical-align: middle;\n",
       "    }\n",
       "\n",
       "    .dataframe tbody tr th {\n",
       "        vertical-align: top;\n",
       "    }\n",
       "\n",
       "    .dataframe thead tr th {\n",
       "        text-align: left;\n",
       "    }\n",
       "\n",
       "    .dataframe thead tr:last-of-type th {\n",
       "        text-align: right;\n",
       "    }\n",
       "</style>\n",
       "<table border=\"1\" class=\"dataframe\">\n",
       "  <thead>\n",
       "    <tr>\n",
       "      <th></th>\n",
       "      <th colspan=\"7\" halign=\"left\">sum</th>\n",
       "    </tr>\n",
       "    <tr>\n",
       "      <th></th>\n",
       "      <th colspan=\"7\" halign=\"left\">sales</th>\n",
       "    </tr>\n",
       "    <tr>\n",
       "      <th>platform</th>\n",
       "      <th>pc</th>\n",
       "      <th>ps3</th>\n",
       "      <th>psp</th>\n",
       "      <th>psv</th>\n",
       "      <th>wii</th>\n",
       "      <th>wiiu</th>\n",
       "      <th>x360</th>\n",
       "    </tr>\n",
       "    <tr>\n",
       "      <th>year_of_release</th>\n",
       "      <th></th>\n",
       "      <th></th>\n",
       "      <th></th>\n",
       "      <th></th>\n",
       "      <th></th>\n",
       "      <th></th>\n",
       "      <th></th>\n",
       "    </tr>\n",
       "  </thead>\n",
       "  <tbody>\n",
       "    <tr>\n",
       "      <td>2014</td>\n",
       "      <td>12.38</td>\n",
       "      <td>40.88</td>\n",
       "      <td>0.24</td>\n",
       "      <td>10.56</td>\n",
       "      <td>3.45</td>\n",
       "      <td>20.35</td>\n",
       "      <td>31.61</td>\n",
       "    </tr>\n",
       "    <tr>\n",
       "      <td>2015</td>\n",
       "      <td>7.93</td>\n",
       "      <td>14.70</td>\n",
       "      <td>0.12</td>\n",
       "      <td>5.93</td>\n",
       "      <td>1.05</td>\n",
       "      <td>15.22</td>\n",
       "      <td>10.86</td>\n",
       "    </tr>\n",
       "    <tr>\n",
       "      <td>2016</td>\n",
       "      <td>4.89</td>\n",
       "      <td>3.23</td>\n",
       "      <td>NaN</td>\n",
       "      <td>4.10</td>\n",
       "      <td>0.17</td>\n",
       "      <td>4.25</td>\n",
       "      <td>1.40</td>\n",
       "    </tr>\n",
       "  </tbody>\n",
       "</table>\n",
       "</div>"
      ],
      "text/plain": [
       "                   sum                                        \n",
       "                 sales                                        \n",
       "platform            pc    ps3   psp    psv   wii   wiiu   x360\n",
       "year_of_release                                               \n",
       "2014             12.38  40.88  0.24  10.56  3.45  20.35  31.61\n",
       "2015              7.93  14.70  0.12   5.93  1.05  15.22  10.86\n",
       "2016              4.89   3.23   NaN   4.10  0.17   4.25   1.40"
      ]
     },
     "execution_count": 33,
     "metadata": {},
     "output_type": "execute_result"
    }
   ],
   "source": [
    "#Cоздадим сводную таблицу для менее популярных платформ\n",
    "games_act_pl_min = games_act_pl.iloc[3:]\n",
    "games_act_pl_min_piv =  games_act.query('platform in @games_act_pl_min.index').pivot_table(index = ['year_of_release'], columns = ['platform'], values = ['sales'] , aggfunc=['sum'])\n",
    "games_act_pl_min_piv"
   ]
  },
  {
   "cell_type": "code",
   "execution_count": 34,
   "id": "58b07b7e",
   "metadata": {},
   "outputs": [
    {
     "data": {
      "image/png": "[encoded data removed]",
      "text/plain": [
       "<Figure size 1080x720 with 1 Axes>"
      ]
     },
     "metadata": {
      "needs_background": "light"
     },
     "output_type": "display_data"
    }
   ],
   "source": [
    "#Построим распределение продаж по годам по не самым популярным платформам \n",
    "#датасет, название, ось х, ось у\n",
    "print_plot(games_act_pl_min_piv, 'Распределение продаж по менее популярным платформам', 'Года релиза', 'Миллионы проданных копий в мире')"
   ]
  },
  {
   "cell_type": "markdown",
   "id": "08fa6ddb",
   "metadata": {},
   "source": [
    "Хотя по объему продаж, как мы видели выше, крупнее были ps3, x360, но у них более ярко выражена тенденция к снижению.\n",
    "Несмотря на то, что ps3 в 2014 году смотрелся перспективнее, чем pc, к 2016 году pc опережает по продажам. Получается, стоит рассмотреть еще 2 платформы, у которых скорость снижения продаж наименьшая: psv, pc. Данные за 2016 год могут быть неполные, поэтому стоит уточнить графики, если будут предоставлены более полные данные позже.\n",
    "\n",
    "Итого, 5 перспективных платформ:\n",
    "\n",
    "ps4, xone, 3ds, psv, pc"
   ]
  },
  {
   "cell_type": "markdown",
   "id": "311bcc31",
   "metadata": {},
   "source": [
    "Построим график boxplot по глобальным продажам игр в разбивке по платформам"
   ]
  },
  {
   "cell_type": "code",
   "execution_count": 35,
   "id": "efc8277c",
   "metadata": {},
   "outputs": [
    {
     "data": {
      "text/html": [
       "<div>\n",
       "<style scoped>\n",
       "    .dataframe tbody tr th:only-of-type {\n",
       "        vertical-align: middle;\n",
       "    }\n",
       "\n",
       "    .dataframe tbody tr th {\n",
       "        vertical-align: top;\n",
       "    }\n",
       "\n",
       "    .dataframe thead th {\n",
       "        text-align: right;\n",
       "    }\n",
       "</style>\n",
       "<table border=\"1\" class=\"dataframe\">\n",
       "  <thead>\n",
       "    <tr style=\"text-align: right;\">\n",
       "      <th></th>\n",
       "      <th>name</th>\n",
       "      <th>platform</th>\n",
       "      <th>year_of_release</th>\n",
       "      <th>genre</th>\n",
       "      <th>na_sales</th>\n",
       "      <th>eu_sales</th>\n",
       "      <th>jp_sales</th>\n",
       "      <th>other_sales</th>\n",
       "      <th>critic_score</th>\n",
       "      <th>user_score</th>\n",
       "      <th>rating</th>\n",
       "      <th>sales</th>\n",
       "    </tr>\n",
       "  </thead>\n",
       "  <tbody>\n",
       "    <tr>\n",
       "      <td>13270</td>\n",
       "      <td>child of light</td>\n",
       "      <td>ps4</td>\n",
       "      <td>2014</td>\n",
       "      <td>Role-Playing</td>\n",
       "      <td>0.00</td>\n",
       "      <td>0.01</td>\n",
       "      <td>0.04</td>\n",
       "      <td>0.00</td>\n",
       "      <td>82.0</td>\n",
       "      <td>8</td>\n",
       "      <td>E10+</td>\n",
       "      <td>0.05</td>\n",
       "    </tr>\n",
       "    <tr>\n",
       "      <td>16554</td>\n",
       "      <td>horse life 4: my horse, my friend, my champion</td>\n",
       "      <td>3ds</td>\n",
       "      <td>2015</td>\n",
       "      <td>Action</td>\n",
       "      <td>0.00</td>\n",
       "      <td>0.01</td>\n",
       "      <td>0.00</td>\n",
       "      <td>0.00</td>\n",
       "      <td>NaN</td>\n",
       "      <td>NaN</td>\n",
       "      <td>NaN</td>\n",
       "      <td>0.01</td>\n",
       "    </tr>\n",
       "    <tr>\n",
       "      <td>14897</td>\n",
       "      <td>senran kagura: bon appétit!</td>\n",
       "      <td>psv</td>\n",
       "      <td>2014</td>\n",
       "      <td>Misc</td>\n",
       "      <td>0.00</td>\n",
       "      <td>0.00</td>\n",
       "      <td>0.03</td>\n",
       "      <td>0.00</td>\n",
       "      <td>NaN</td>\n",
       "      <td>NaN</td>\n",
       "      <td>NaN</td>\n",
       "      <td>0.03</td>\n",
       "    </tr>\n",
       "    <tr>\n",
       "      <td>16345</td>\n",
       "      <td>farming simulator 15 expansion pack</td>\n",
       "      <td>pc</td>\n",
       "      <td>2015</td>\n",
       "      <td>Action</td>\n",
       "      <td>0.00</td>\n",
       "      <td>0.01</td>\n",
       "      <td>0.00</td>\n",
       "      <td>0.00</td>\n",
       "      <td>NaN</td>\n",
       "      <td>NaN</td>\n",
       "      <td>NaN</td>\n",
       "      <td>0.01</td>\n",
       "    </tr>\n",
       "    <tr>\n",
       "      <td>14207</td>\n",
       "      <td>duke nukem 3d: 20th anniversary world tour</td>\n",
       "      <td>ps4</td>\n",
       "      <td>2016</td>\n",
       "      <td>Shooter</td>\n",
       "      <td>0.03</td>\n",
       "      <td>0.00</td>\n",
       "      <td>0.00</td>\n",
       "      <td>0.01</td>\n",
       "      <td>77.0</td>\n",
       "      <td>6.9</td>\n",
       "      <td>M</td>\n",
       "      <td>0.03</td>\n",
       "    </tr>\n",
       "  </tbody>\n",
       "</table>\n",
       "</div>"
      ],
      "text/plain": [
       "                                                 name platform  \\\n",
       "13270                                  child of light      ps4   \n",
       "16554  horse life 4: my horse, my friend, my champion      3ds   \n",
       "14897                     senran kagura: bon appétit!      psv   \n",
       "16345             farming simulator 15 expansion pack       pc   \n",
       "14207      duke nukem 3d: 20th anniversary world tour      ps4   \n",
       "\n",
       "       year_of_release         genre  na_sales  eu_sales  jp_sales  \\\n",
       "13270             2014  Role-Playing      0.00      0.01      0.04   \n",
       "16554             2015        Action      0.00      0.01      0.00   \n",
       "14897             2014          Misc      0.00      0.00      0.03   \n",
       "16345             2015        Action      0.00      0.01      0.00   \n",
       "14207             2016       Shooter      0.03      0.00      0.00   \n",
       "\n",
       "       other_sales  critic_score user_score rating  sales  \n",
       "13270         0.00          82.0          8   E10+   0.05  \n",
       "16554         0.00           NaN        NaN    NaN   0.01  \n",
       "14897         0.00           NaN        NaN    NaN   0.03  \n",
       "16345         0.00           NaN        NaN    NaN   0.01  \n",
       "14207         0.01          77.0        6.9      M   0.03  "
      ]
     },
     "execution_count": 35,
     "metadata": {},
     "output_type": "execute_result"
    }
   ],
   "source": [
    "#5 перспективных платформ\n",
    "persp_pl = ['ps4', 'xone', '3ds', 'psv', 'pc']\n",
    "games_act.query('platform in @persp_pl').sample(5)"
   ]
  },
  {
   "cell_type": "code",
   "execution_count": 36,
   "id": "00714cb1",
   "metadata": {},
   "outputs": [
    {
     "data": {
      "image/png": "[encoded data removed]",
      "text/plain": [
       "<Figure size 1080x720 with 1 Axes>"
      ]
     },
     "metadata": {
      "needs_background": "light"
     },
     "output_type": "display_data"
    }
   ],
   "source": [
    "#Построим графики типа \"ящик с усами\" для пяти перспективных платформ\n",
    "games_act.query('platform in @persp_pl').boxplot('sales', by = 'platform', figsize=(15,10))\n",
    "plt.suptitle('Глобальные продажи игр в разбивке по платформам')\n",
    "plt.ylim(0, 1.75)\n",
    "plt.show()"
   ]
  },
  {
   "cell_type": "markdown",
   "id": "2ab624da",
   "metadata": {},
   "source": [
    "За период 3 года:\n",
    "По двум крупнейшим платформам ps4, xone медианные значения по продажам игр около 200тыс.\n",
    "Верхние \"усы\" заканчиваются около 1,35млн — это 1.5 межквартильного размаха, добавленного к 3-му квартилю и ориентировочная граница нормального размаха. Всё, что лежит за ней, считается выбросом. \n",
    "По другим трем платформам медианы продаж игр около и ниже 50тыс, третий квартиль около 200тыс для 3ds и pc и меньше 100тыс для psv. Наиболее перспективные платформы ps4, xone."
   ]
  },
  {
   "cell_type": "code",
   "execution_count": 37,
   "id": "b5212da7",
   "metadata": {},
   "outputs": [
    {
     "data": {
      "image/png": "[encoded data removed]",
      "text/plain": [
       "<Figure size 726.5x648 with 1 Axes>"
      ]
     },
     "metadata": {
      "needs_background": "light"
     },
     "output_type": "display_data"
    },
    {
     "name": "stdout",
     "output_type": "stream",
     "text": [
      "\n"
     ]
    }
   ],
   "source": [
    "# Посмотрим, как коррелируют продажи и отзывы критиков\n",
    "sns.relplot(x=\"sales\", y=\"critic_score\", hue=\"platform\", size=\"sales\",\n",
    "            sizes=(0, 400), alpha=.5, palette=\"muted\",\n",
    "            height=9, data=games_act.query('platform in @persp_pl'))\n",
    "plt.title('Продажи и отзывы критиков по пяти популярным платформам')\n",
    "plt.show()\n",
    "print()"
   ]
  },
  {
   "cell_type": "markdown",
   "id": "ca790495",
   "metadata": {},
   "source": [
    "Подробнее рассмотрим корреляцию для каждой платформы."
   ]
  },
  {
   "cell_type": "code",
   "execution_count": 38,
   "id": "71f833b7",
   "metadata": {},
   "outputs": [],
   "source": [
    "#Функция для диаграмм рассеяния\n",
    "#Напишем функцию, строящую графики типа scatter\n",
    "    \n",
    "def print_plot(pl):\n",
    "    data = games_sc.query('platform == @pl & year_of_release > 2013') #Название платформы\n",
    "    fig = plt.figure(figsize=(15,5)) \n",
    "    ax1 = fig.add_subplot(1,2,1) #Задаем оси1\n",
    "    ax2 = fig.add_subplot(1,2,2) #Задаем оси2\n",
    "    fig.tight_layout()\n",
    "\n",
    "    data.plot(x='sales', y='critic_score', kind='scatter', alpha=1, ax=ax1) #Критики\n",
    "    data.plot(x='sales', y='user_score', kind='scatter', alpha=1, ax=ax2) #Пользователи\n",
    "    ax1.set_title('Корреляция продаж и рейтинга критиков') #Заголовок1\n",
    "    ax2.set_title('Корреляция продаж и рейтинга пользователей') #Заголовок2\n",
    "    plt.show()"
   ]
  },
  {
   "cell_type": "code",
   "execution_count": 39,
   "id": "2bf16c68",
   "metadata": {},
   "outputs": [
    {
     "data": {
      "image/png": "[encoded data removed]",
      "text/plain": [
       "<Figure size 1080x360 with 2 Axes>"
      ]
     },
     "metadata": {
      "needs_background": "light"
     },
     "output_type": "display_data"
    }
   ],
   "source": [
    "#График для платформы ps4\n",
    "print_plot(\"ps4\")"
   ]
  },
  {
   "cell_type": "code",
   "execution_count": 40,
   "id": "e3501938",
   "metadata": {},
   "outputs": [
    {
     "name": "stdout",
     "output_type": "stream",
     "text": [
      "              critic_score  user_score     sales\n",
      "critic_score      1.000000    0.572802  0.402913\n",
      "user_score        0.572802    1.000000 -0.030217\n",
      "sales             0.402913   -0.030217  1.000000\n"
     ]
    }
   ],
   "source": [
    "#Оценим коэффициент корреляции Пирсона для рейтинга критиков, рейтинга пользователей и объемом продаж для ps4\n",
    "print(games_sc.query('platform == \"ps4\"')[['critic_score','user_score', 'sales']].corr()) "
   ]
  },
  {
   "cell_type": "markdown",
   "id": "5b6d9467",
   "metadata": {},
   "source": [
    "По платформе ps4 между продажами и рейтингом критиков корреляция слабая, положительная. Между продажами и рейтингом пользователей корреляция обратная и очень слабая, можно не учитывать. Между рейтингом пользователей и критиков корреляция положительная, средняя."
   ]
  },
  {
   "cell_type": "code",
   "execution_count": 41,
   "id": "586871d0",
   "metadata": {},
   "outputs": [
    {
     "data": {
      "image/png": "[encoded data removed]",
      "text/plain": [
       "<Figure size 1080x360 with 2 Axes>"
      ]
     },
     "metadata": {
      "needs_background": "light"
     },
     "output_type": "display_data"
    }
   ],
   "source": [
    "#График для платформы 3ds\n",
    "print_plot(\"3ds\")"
   ]
  },
  {
   "cell_type": "code",
   "execution_count": 42,
   "id": "e27eeb6a",
   "metadata": {},
   "outputs": [
    {
     "name": "stdout",
     "output_type": "stream",
     "text": [
      "              critic_score  user_score     sales\n",
      "critic_score      1.000000    0.755306  0.340089\n",
      "user_score        0.755306    1.000000  0.235270\n",
      "sales             0.340089    0.235270  1.000000\n"
     ]
    }
   ],
   "source": [
    "#Оценим коэффициент корреляции Пирсона для рейтинга критиков, рейтинга пользователей и объемом продаж для 3ds\n",
    "print(games_sc.query('platform == \"3ds\"')[['critic_score','user_score', 'sales']].corr()) "
   ]
  },
  {
   "cell_type": "markdown",
   "id": "c6b0e8e1",
   "metadata": {},
   "source": [
    "По платформе 3ds между продажами и рейтингом критиков корреляция слабая, положительная. Между продажами и рейтингом пользователей корреляция слабее. Между рейтингом пользователей и критиков корреляция положительная, высокая."
   ]
  },
  {
   "cell_type": "code",
   "execution_count": 43,
   "id": "fe230ffc",
   "metadata": {},
   "outputs": [
    {
     "data": {
      "image/png": "[encoded data removed]",
      "text/plain": [
       "<Figure size 1080x360 with 2 Axes>"
      ]
     },
     "metadata": {
      "needs_background": "light"
     },
     "output_type": "display_data"
    }
   ],
   "source": [
    "#График для платформы xone\n",
    "print_plot(\"xone\")"
   ]
  },
  {
   "cell_type": "code",
   "execution_count": 44,
   "id": "3c4c9f79",
   "metadata": {},
   "outputs": [
    {
     "name": "stdout",
     "output_type": "stream",
     "text": [
      "              critic_score  user_score     sales\n",
      "critic_score      1.000000    0.491255  0.410175\n",
      "user_score        0.491255    1.000000 -0.075564\n",
      "sales             0.410175   -0.075564  1.000000\n"
     ]
    }
   ],
   "source": [
    "#Оценим коэффициент корреляции Пирсона для рейтинга критиков, рейтинга пользователей и объемом продаж для xone\n",
    "print(games_sc.query('platform == \"xone\"')[['critic_score','user_score', 'sales']].corr()) "
   ]
  },
  {
   "cell_type": "markdown",
   "id": "8828c3f6",
   "metadata": {},
   "source": [
    "По платформе xone между продажами и рейтингом критиков корреляция слабая, положительная. Между продажами и рейтингом пользователей корреляция очень слабая и отрицательная. Между рейтингом пользователей и критиков корреляция слабая.\n",
    "\n",
    "В итоге, по популярным платформам по корреляции можно сделать вывод, что корреляция между рейтингами критиков и продажами  выше, чем между рейтингом пользователей и продажами.\n",
    "Чаще всего, есть корреляция между рейтингами пользователей и критиков. "
   ]
  },
  {
   "cell_type": "markdown",
   "id": "a4c8a599",
   "metadata": {},
   "source": [
    "Посмотрим на распределение игр по жанрам."
   ]
  },
  {
   "cell_type": "code",
   "execution_count": 45,
   "id": "821c07c4",
   "metadata": {},
   "outputs": [
    {
     "data": {
      "text/html": [
       "<div>\n",
       "<style scoped>\n",
       "    .dataframe tbody tr th:only-of-type {\n",
       "        vertical-align: middle;\n",
       "    }\n",
       "\n",
       "    .dataframe tbody tr th {\n",
       "        vertical-align: top;\n",
       "    }\n",
       "\n",
       "    .dataframe thead th {\n",
       "        text-align: right;\n",
       "    }\n",
       "</style>\n",
       "<table border=\"1\" class=\"dataframe\">\n",
       "  <thead>\n",
       "    <tr style=\"text-align: right;\">\n",
       "      <th>platform</th>\n",
       "      <th>3ds</th>\n",
       "      <th>pc</th>\n",
       "      <th>ps4</th>\n",
       "      <th>psv</th>\n",
       "      <th>xone</th>\n",
       "    </tr>\n",
       "    <tr>\n",
       "      <th>genre</th>\n",
       "      <th></th>\n",
       "      <th></th>\n",
       "      <th></th>\n",
       "      <th></th>\n",
       "      <th></th>\n",
       "    </tr>\n",
       "  </thead>\n",
       "  <tbody>\n",
       "    <tr>\n",
       "      <td>Action</td>\n",
       "      <td>21.35</td>\n",
       "      <td>4.98</td>\n",
       "      <td>77.64</td>\n",
       "      <td>6.88</td>\n",
       "      <td>28.33</td>\n",
       "    </tr>\n",
       "    <tr>\n",
       "      <td>Adventure</td>\n",
       "      <td>1.50</td>\n",
       "      <td>0.37</td>\n",
       "      <td>5.40</td>\n",
       "      <td>2.17</td>\n",
       "      <td>2.47</td>\n",
       "    </tr>\n",
       "    <tr>\n",
       "      <td>Fighting</td>\n",
       "      <td>7.60</td>\n",
       "      <td>0.10</td>\n",
       "      <td>6.56</td>\n",
       "      <td>0.64</td>\n",
       "      <td>1.95</td>\n",
       "    </tr>\n",
       "    <tr>\n",
       "      <td>Misc</td>\n",
       "      <td>3.72</td>\n",
       "      <td>0.05</td>\n",
       "      <td>6.56</td>\n",
       "      <td>3.07</td>\n",
       "      <td>6.15</td>\n",
       "    </tr>\n",
       "    <tr>\n",
       "      <td>Platform</td>\n",
       "      <td>3.74</td>\n",
       "      <td>0.06</td>\n",
       "      <td>4.56</td>\n",
       "      <td>0.16</td>\n",
       "      <td>0.57</td>\n",
       "    </tr>\n",
       "    <tr>\n",
       "      <td>Puzzle</td>\n",
       "      <td>0.85</td>\n",
       "      <td>NaN</td>\n",
       "      <td>0.02</td>\n",
       "      <td>0.06</td>\n",
       "      <td>NaN</td>\n",
       "    </tr>\n",
       "    <tr>\n",
       "      <td>Racing</td>\n",
       "      <td>NaN</td>\n",
       "      <td>0.61</td>\n",
       "      <td>8.64</td>\n",
       "      <td>0.10</td>\n",
       "      <td>6.35</td>\n",
       "    </tr>\n",
       "    <tr>\n",
       "      <td>Role-Playing</td>\n",
       "      <td>38.25</td>\n",
       "      <td>4.52</td>\n",
       "      <td>24.85</td>\n",
       "      <td>5.76</td>\n",
       "      <td>9.59</td>\n",
       "    </tr>\n",
       "    <tr>\n",
       "      <td>Shooter</td>\n",
       "      <td>NaN</td>\n",
       "      <td>5.36</td>\n",
       "      <td>66.00</td>\n",
       "      <td>0.49</td>\n",
       "      <td>50.34</td>\n",
       "    </tr>\n",
       "    <tr>\n",
       "      <td>Simulation</td>\n",
       "      <td>3.97</td>\n",
       "      <td>6.14</td>\n",
       "      <td>1.07</td>\n",
       "      <td>0.05</td>\n",
       "      <td>0.30</td>\n",
       "    </tr>\n",
       "    <tr>\n",
       "      <td>Sports</td>\n",
       "      <td>1.26</td>\n",
       "      <td>0.88</td>\n",
       "      <td>42.01</td>\n",
       "      <td>1.03</td>\n",
       "      <td>21.56</td>\n",
       "    </tr>\n",
       "    <tr>\n",
       "      <td>Strategy</td>\n",
       "      <td>0.76</td>\n",
       "      <td>2.13</td>\n",
       "      <td>0.36</td>\n",
       "      <td>0.18</td>\n",
       "      <td>0.23</td>\n",
       "    </tr>\n",
       "  </tbody>\n",
       "</table>\n",
       "</div>"
      ],
      "text/plain": [
       "platform        3ds    pc    ps4   psv   xone\n",
       "genre                                        \n",
       "Action        21.35  4.98  77.64  6.88  28.33\n",
       "Adventure      1.50  0.37   5.40  2.17   2.47\n",
       "Fighting       7.60  0.10   6.56  0.64   1.95\n",
       "Misc           3.72  0.05   6.56  3.07   6.15\n",
       "Platform       3.74  0.06   4.56  0.16   0.57\n",
       "Puzzle         0.85   NaN   0.02  0.06    NaN\n",
       "Racing          NaN  0.61   8.64  0.10   6.35\n",
       "Role-Playing  38.25  4.52  24.85  5.76   9.59\n",
       "Shooter         NaN  5.36  66.00  0.49  50.34\n",
       "Simulation     3.97  6.14   1.07  0.05   0.30\n",
       "Sports         1.26  0.88  42.01  1.03  21.56\n",
       "Strategy       0.76  2.13   0.36  0.18   0.23"
      ]
     },
     "execution_count": 45,
     "metadata": {},
     "output_type": "execute_result"
    }
   ],
   "source": [
    "#Сводная таблица для группировки по жанрам и перспективным платформам\n",
    "games_genre = games_act.query('platform in @persp_pl').pivot_table(\n",
    "                        index=games['genre'], \n",
    "                        columns='platform',\n",
    "                        values= 'sales', \n",
    "                        aggfunc='sum')\n",
    "games_genre"
   ]
  },
  {
   "cell_type": "code",
   "execution_count": 46,
   "id": "d566c92f",
   "metadata": {},
   "outputs": [
    {
     "data": {
      "image/png": "[encoded data removed]",
      "text/plain": [
       "<Figure size 432x288 with 2 Axes>"
      ]
     },
     "metadata": {
      "needs_background": "light"
     },
     "output_type": "display_data"
    },
    {
     "data": {
      "text/plain": [
       "<Figure size 1080x288 with 0 Axes>"
      ]
     },
     "metadata": {},
     "output_type": "display_data"
    }
   ],
   "source": [
    "#Тепловая карта для группировки по жанрам и перспективным платформам\n",
    "try:\n",
    "    sns.heatmap(games_genre, annot=False, fmt=\".0f\", linewidths=.5, cmap=\"rocket_r\", square = True, cbar_kws={\"orientation\": \"vertical\"})\n",
    "    plt.title('Платформы, жанры и продажи')\n",
    "    plt.figure(figsize=(15,4))\n",
    "    plt.show()\n",
    "except:\n",
    "    sns.heatmap(games_genre, annot=False, fmt=\".0f\", linewidths=.5, square = True, cbar_kws={\"orientation\": \"vertical\"})\n",
    "    plt.title('Платформы, жанры и продажи')\n",
    "    plt.figure(figsize=(15,4))\n",
    "    plt.show()"
   ]
  },
  {
   "cell_type": "markdown",
   "id": "c0ace041",
   "metadata": {},
   "source": [
    "Предварительно, Action продавали чаще всего, этот жанр представлен на всех платформах и является лидером по продажам платформы ps4. Также продаваемым является жанр Shooter, хотя он не представлен на 3ds, уверенно продается на ps4, xone.\n",
    "Sports и Role-Playing также кажутся перспективными.\n",
    "\n",
    "Посмотрим совокупное распределение по жарнам."
   ]
  },
  {
   "cell_type": "code",
   "execution_count": 47,
   "id": "c566be43",
   "metadata": {},
   "outputs": [
    {
     "data": {
      "text/html": [
       "<style  type=\"text/css\" >\n",
       "</style><table id=\"T_3340944a_e378_11eb_a48b_02420a39886c\" ><thead>    <tr>        <th class=\"blank level0\" ></th>        <th class=\"col_heading level0 col0\" >sales</th>        <th class=\"col_heading level0 col1\" >sales_%</th>    </tr>    <tr>        <th class=\"index_name level0\" >genre</th>        <th class=\"blank\" ></th>        <th class=\"blank\" ></th>    </tr></thead><tbody>\n",
       "                <tr>\n",
       "                        <th id=\"T_3340944a_e378_11eb_a48b_02420a39886clevel0_row0\" class=\"row_heading level0 row0\" >Action</th>\n",
       "                        <td id=\"T_3340944a_e378_11eb_a48b_02420a39886crow0_col0\" class=\"data row0 col0\" >176.79</td>\n",
       "                        <td id=\"T_3340944a_e378_11eb_a48b_02420a39886crow0_col1\" class=\"data row0 col1\" >27.29%</td>\n",
       "            </tr>\n",
       "            <tr>\n",
       "                        <th id=\"T_3340944a_e378_11eb_a48b_02420a39886clevel0_row1\" class=\"row_heading level0 row1\" >Shooter</th>\n",
       "                        <td id=\"T_3340944a_e378_11eb_a48b_02420a39886crow1_col0\" class=\"data row1 col0\" >149.41</td>\n",
       "                        <td id=\"T_3340944a_e378_11eb_a48b_02420a39886crow1_col1\" class=\"data row1 col1\" >23.06%</td>\n",
       "            </tr>\n",
       "            <tr>\n",
       "                        <th id=\"T_3340944a_e378_11eb_a48b_02420a39886clevel0_row2\" class=\"row_heading level0 row2\" >Sports</th>\n",
       "                        <td id=\"T_3340944a_e378_11eb_a48b_02420a39886crow2_col0\" class=\"data row2 col0\" >95.12</td>\n",
       "                        <td id=\"T_3340944a_e378_11eb_a48b_02420a39886crow2_col1\" class=\"data row2 col1\" >14.68%</td>\n",
       "            </tr>\n",
       "            <tr>\n",
       "                        <th id=\"T_3340944a_e378_11eb_a48b_02420a39886clevel0_row3\" class=\"row_heading level0 row3\" >Role-Playing</th>\n",
       "                        <td id=\"T_3340944a_e378_11eb_a48b_02420a39886crow3_col0\" class=\"data row3 col0\" >92.8</td>\n",
       "                        <td id=\"T_3340944a_e378_11eb_a48b_02420a39886crow3_col1\" class=\"data row3 col1\" >14.32%</td>\n",
       "            </tr>\n",
       "            <tr>\n",
       "                        <th id=\"T_3340944a_e378_11eb_a48b_02420a39886clevel0_row4\" class=\"row_heading level0 row4\" >Misc</th>\n",
       "                        <td id=\"T_3340944a_e378_11eb_a48b_02420a39886crow4_col0\" class=\"data row4 col0\" >33.52</td>\n",
       "                        <td id=\"T_3340944a_e378_11eb_a48b_02420a39886crow4_col1\" class=\"data row4 col1\" >5.17%</td>\n",
       "            </tr>\n",
       "            <tr>\n",
       "                        <th id=\"T_3340944a_e378_11eb_a48b_02420a39886clevel0_row5\" class=\"row_heading level0 row5\" >Fighting</th>\n",
       "                        <td id=\"T_3340944a_e378_11eb_a48b_02420a39886crow5_col0\" class=\"data row5 col0\" >25.49</td>\n",
       "                        <td id=\"T_3340944a_e378_11eb_a48b_02420a39886crow5_col1\" class=\"data row5 col1\" >3.93%</td>\n",
       "            </tr>\n",
       "            <tr>\n",
       "                        <th id=\"T_3340944a_e378_11eb_a48b_02420a39886clevel0_row6\" class=\"row_heading level0 row6\" >Racing</th>\n",
       "                        <td id=\"T_3340944a_e378_11eb_a48b_02420a39886crow6_col0\" class=\"data row6 col0\" >24.63</td>\n",
       "                        <td id=\"T_3340944a_e378_11eb_a48b_02420a39886crow6_col1\" class=\"data row6 col1\" >3.80%</td>\n",
       "            </tr>\n",
       "            <tr>\n",
       "                        <th id=\"T_3340944a_e378_11eb_a48b_02420a39886clevel0_row7\" class=\"row_heading level0 row7\" >Platform</th>\n",
       "                        <td id=\"T_3340944a_e378_11eb_a48b_02420a39886crow7_col0\" class=\"data row7 col0\" >16.28</td>\n",
       "                        <td id=\"T_3340944a_e378_11eb_a48b_02420a39886crow7_col1\" class=\"data row7 col1\" >2.51%</td>\n",
       "            </tr>\n",
       "            <tr>\n",
       "                        <th id=\"T_3340944a_e378_11eb_a48b_02420a39886clevel0_row8\" class=\"row_heading level0 row8\" >Adventure</th>\n",
       "                        <td id=\"T_3340944a_e378_11eb_a48b_02420a39886crow8_col0\" class=\"data row8 col0\" >15.73</td>\n",
       "                        <td id=\"T_3340944a_e378_11eb_a48b_02420a39886crow8_col1\" class=\"data row8 col1\" >2.43%</td>\n",
       "            </tr>\n",
       "            <tr>\n",
       "                        <th id=\"T_3340944a_e378_11eb_a48b_02420a39886clevel0_row9\" class=\"row_heading level0 row9\" >Simulation</th>\n",
       "                        <td id=\"T_3340944a_e378_11eb_a48b_02420a39886crow9_col0\" class=\"data row9 col0\" >12.24</td>\n",
       "                        <td id=\"T_3340944a_e378_11eb_a48b_02420a39886crow9_col1\" class=\"data row9 col1\" >1.89%</td>\n",
       "            </tr>\n",
       "            <tr>\n",
       "                        <th id=\"T_3340944a_e378_11eb_a48b_02420a39886clevel0_row10\" class=\"row_heading level0 row10\" >Strategy</th>\n",
       "                        <td id=\"T_3340944a_e378_11eb_a48b_02420a39886crow10_col0\" class=\"data row10 col0\" >3.72</td>\n",
       "                        <td id=\"T_3340944a_e378_11eb_a48b_02420a39886crow10_col1\" class=\"data row10 col1\" >0.57%</td>\n",
       "            </tr>\n",
       "            <tr>\n",
       "                        <th id=\"T_3340944a_e378_11eb_a48b_02420a39886clevel0_row11\" class=\"row_heading level0 row11\" >Puzzle</th>\n",
       "                        <td id=\"T_3340944a_e378_11eb_a48b_02420a39886crow11_col0\" class=\"data row11 col0\" >2.1</td>\n",
       "                        <td id=\"T_3340944a_e378_11eb_a48b_02420a39886crow11_col1\" class=\"data row11 col1\" >0.32%</td>\n",
       "            </tr>\n",
       "    </tbody></table>"
      ],
      "text/plain": [
       "<pandas.io.formats.style.Styler at 0x7f2a95333bd0>"
      ]
     },
     "execution_count": 47,
     "metadata": {},
     "output_type": "execute_result"
    }
   ],
   "source": [
    "#подсчитаем количество продаж по жанрам и выразим в процентном отношении\n",
    "games_sum_genre = games_act.pivot_table(\n",
    "                        index=games['genre'], \n",
    "                        values= 'sales', \n",
    "                        aggfunc='sum')\n",
    "games_sum_genre = games_sum_genre.sort_values(by='sales', ascending = False)\n",
    "games_sum_genre['sales_%'] = games_sum_genre['sales'] / games_sum_genre['sales'].sum()\n",
    "games_sum_genre.style.format({'sales_%' : '{:.2%}'})"
   ]
  },
  {
   "cell_type": "markdown",
   "id": "a732022a",
   "metadata": {},
   "source": [
    "Больше всего всего продавали Action и Shooter. В сумме оба этих жанра обеспечили более половины всех продаж. За ними идут жанры Sports и Role-Playing. \n",
    "\n",
    "Но, возможно, за высокими продажами стоят показатели пары успешных игр или много игр с низкими продажами, для анализа более корректно найти жанр, где игры стабильно приносят высокий доход - для этого стоит рассмотреть медианные значения по жанрам."
   ]
  },
  {
   "cell_type": "code",
   "execution_count": 48,
   "id": "8ee99199",
   "metadata": {},
   "outputs": [
    {
     "data": {
      "text/html": [
       "<div>\n",
       "<style scoped>\n",
       "    .dataframe tbody tr th:only-of-type {\n",
       "        vertical-align: middle;\n",
       "    }\n",
       "\n",
       "    .dataframe tbody tr th {\n",
       "        vertical-align: top;\n",
       "    }\n",
       "\n",
       "    .dataframe thead th {\n",
       "        text-align: right;\n",
       "    }\n",
       "</style>\n",
       "<table border=\"1\" class=\"dataframe\">\n",
       "  <thead>\n",
       "    <tr style=\"text-align: right;\">\n",
       "      <th></th>\n",
       "      <th>sales</th>\n",
       "    </tr>\n",
       "    <tr>\n",
       "      <th>genre</th>\n",
       "      <th></th>\n",
       "    </tr>\n",
       "  </thead>\n",
       "  <tbody>\n",
       "    <tr>\n",
       "      <td>Shooter</td>\n",
       "      <td>0.475</td>\n",
       "    </tr>\n",
       "    <tr>\n",
       "      <td>Sports</td>\n",
       "      <td>0.170</td>\n",
       "    </tr>\n",
       "    <tr>\n",
       "      <td>Fighting</td>\n",
       "      <td>0.115</td>\n",
       "    </tr>\n",
       "    <tr>\n",
       "      <td>Platform</td>\n",
       "      <td>0.115</td>\n",
       "    </tr>\n",
       "    <tr>\n",
       "      <td>Role-Playing</td>\n",
       "      <td>0.100</td>\n",
       "    </tr>\n",
       "    <tr>\n",
       "      <td>Simulation</td>\n",
       "      <td>0.095</td>\n",
       "    </tr>\n",
       "    <tr>\n",
       "      <td>Misc</td>\n",
       "      <td>0.090</td>\n",
       "    </tr>\n",
       "    <tr>\n",
       "      <td>Action</td>\n",
       "      <td>0.080</td>\n",
       "    </tr>\n",
       "    <tr>\n",
       "      <td>Racing</td>\n",
       "      <td>0.080</td>\n",
       "    </tr>\n",
       "    <tr>\n",
       "      <td>Strategy</td>\n",
       "      <td>0.060</td>\n",
       "    </tr>\n",
       "    <tr>\n",
       "      <td>Puzzle</td>\n",
       "      <td>0.045</td>\n",
       "    </tr>\n",
       "    <tr>\n",
       "      <td>Adventure</td>\n",
       "      <td>0.030</td>\n",
       "    </tr>\n",
       "  </tbody>\n",
       "</table>\n",
       "</div>"
      ],
      "text/plain": [
       "              sales\n",
       "genre              \n",
       "Shooter       0.475\n",
       "Sports        0.170\n",
       "Fighting      0.115\n",
       "Platform      0.115\n",
       "Role-Playing  0.100\n",
       "Simulation    0.095\n",
       "Misc          0.090\n",
       "Action        0.080\n",
       "Racing        0.080\n",
       "Strategy      0.060\n",
       "Puzzle        0.045\n",
       "Adventure     0.030"
      ]
     },
     "execution_count": 48,
     "metadata": {},
     "output_type": "execute_result"
    }
   ],
   "source": [
    "#подсчитаем среднее по продажам по жанрам\n",
    "games_sum_genre_mean = games_act.pivot_table(\n",
    "                        index=games['genre'], \n",
    "                        values= 'sales', \n",
    "                        aggfunc='median')\n",
    "games_sum_genre_mean = games_sum_genre_mean.sort_values(by='sales', ascending = False)\n",
    "games_sum_genre_mean"
   ]
  },
  {
   "cell_type": "code",
   "execution_count": 49,
   "id": "b590e84f",
   "metadata": {},
   "outputs": [
    {
     "data": {
      "image/png": "[encoded data removed]",
      "text/plain": [
       "<Figure size 1080x432 with 1 Axes>"
      ]
     },
     "metadata": {
      "needs_background": "light"
     },
     "output_type": "display_data"
    }
   ],
   "source": [
    "#Построим гистограмму, отражающую распределение по регионам и платформам\n",
    "ax = games_sum_genre_mean.plot.bar(rot=0, figsize = (15, 6), grid = True)\n",
    "ax.set_title('Медианное распределение продаж по жанрам') #подписали график\n",
    "plt.legend()\n",
    "plt.xlabel('genre') #подписали ось х\n",
    "plt.ylabel('sales') #подписали ось y\n",
    "plt.show()"
   ]
  },
  {
   "cell_type": "markdown",
   "id": "0266c2fb",
   "metadata": {},
   "source": [
    "По общему объему продаж, вероятно, из-за игр-хитов, самые продаваемые оказались жанры Action и Shooter. В сумме оба этих жанра обеспечили более половины всех продаж. \n",
    "\n",
    "Но при оценке медианных значений оказалось, что стабильно прибыльный жанр — Shooter (не представлен на платформе 3ds). Далее идет Sports, Fighting, Platform, Role-Playing\n",
    "\n",
    "Самые продаваемые игры - требующие активных действий, отличающиеся активным темпом, имеющие акцент на борьбе и соревновании. Наименее интересны пользователям были жанры Puzzle и Strategy, Adventure, требующие сосредоточенности и тактического подхода. "
   ]
  },
  {
   "cell_type": "markdown",
   "id": "e225bdc5",
   "metadata": {},
   "source": [
    "### Вывод\n",
    "\n",
    "Для нашего исследования, чтобы спрогнозировать наиболее популярный продукт и рекламную кампанию на 2017 год, рассматривали три предыдущие года. За этот срок тенденция (рост, пик или спад) обычно сохраняется. Подъем продаж по каждой платформе более быстрый, чем спад, в основном за 2-3 года достигает пика по каждой платформе. В среднем, жизненный цикл платформ 10 лет. \n",
    "\n",
    "Видна тенденция к снижению объемов продаж по всем платформам.\n",
    "\n",
    "Рассмотрели 5 наиболее крупных платформ: ps4, xone, 3ds, psv, pc. Наиболее перспективные платформы: ps4, xone.\n",
    "\n",
    "По этим платформам провели исследование корреляции и можно сделать вывод, что корреляция между рейтингами критиков и продажами выше, чем между рейтингом пользователей и продажами.\n",
    "\n",
    "По перспективным платформам ps4 и xone наиболее популярным является жанр Shooter. За ним существенно менее популярными оказываются Sports, Fighting, Platform, Role-Playing. "
   ]
  },
  {
   "cell_type": "markdown",
   "id": "774209bc",
   "metadata": {},
   "source": [
    "## Портрет пользователя каждого региона\n",
    "\n",
    "Для пользователя каждого региона определим самые популярные платформы"
   ]
  },
  {
   "cell_type": "code",
   "execution_count": 50,
   "id": "69e520b4",
   "metadata": {},
   "outputs": [
    {
     "data": {
      "text/html": [
       "<style  type=\"text/css\" >\n",
       "</style><table id=\"T_339b47b4_e378_11eb_a48b_02420a39886c\" ><thead>    <tr>        <th class=\"blank level0\" ></th>        <th class=\"col_heading level0 col0\" >na_sum</th>        <th class=\"col_heading level0 col1\" >sales_%</th>    </tr>    <tr>        <th class=\"index_name level0\" >platform</th>        <th class=\"blank\" ></th>        <th class=\"blank\" ></th>    </tr></thead><tbody>\n",
       "                <tr>\n",
       "                        <th id=\"T_339b47b4_e378_11eb_a48b_02420a39886clevel0_row0\" class=\"row_heading level0 row0\" >ps4</th>\n",
       "                        <td id=\"T_339b47b4_e378_11eb_a48b_02420a39886crow0_col0\" class=\"data row0 col0\" >98.61</td>\n",
       "                        <td id=\"T_339b47b4_e378_11eb_a48b_02420a39886crow0_col1\" class=\"data row0 col1\" >34.71%</td>\n",
       "            </tr>\n",
       "            <tr>\n",
       "                        <th id=\"T_339b47b4_e378_11eb_a48b_02420a39886clevel0_row1\" class=\"row_heading level0 row1\" >xone</th>\n",
       "                        <td id=\"T_339b47b4_e378_11eb_a48b_02420a39886crow1_col0\" class=\"data row1 col0\" >81.27</td>\n",
       "                        <td id=\"T_339b47b4_e378_11eb_a48b_02420a39886crow1_col1\" class=\"data row1 col1\" >28.61%</td>\n",
       "            </tr>\n",
       "            <tr>\n",
       "                        <th id=\"T_339b47b4_e378_11eb_a48b_02420a39886clevel0_row2\" class=\"row_heading level0 row2\" >x360</th>\n",
       "                        <td id=\"T_339b47b4_e378_11eb_a48b_02420a39886crow2_col0\" class=\"data row2 col0\" >28.3</td>\n",
       "                        <td id=\"T_339b47b4_e378_11eb_a48b_02420a39886crow2_col1\" class=\"data row2 col1\" >9.96%</td>\n",
       "            </tr>\n",
       "            <tr>\n",
       "                        <th id=\"T_339b47b4_e378_11eb_a48b_02420a39886clevel0_row3\" class=\"row_heading level0 row3\" >3ds</th>\n",
       "                        <td id=\"T_339b47b4_e378_11eb_a48b_02420a39886crow3_col0\" class=\"data row3 col0\" >22.64</td>\n",
       "                        <td id=\"T_339b47b4_e378_11eb_a48b_02420a39886crow3_col1\" class=\"data row3 col1\" >7.97%</td>\n",
       "            </tr>\n",
       "            <tr>\n",
       "                        <th id=\"T_339b47b4_e378_11eb_a48b_02420a39886clevel0_row4\" class=\"row_heading level0 row4\" >ps3</th>\n",
       "                        <td id=\"T_339b47b4_e378_11eb_a48b_02420a39886crow4_col0\" class=\"data row4 col0\" >22.05</td>\n",
       "                        <td id=\"T_339b47b4_e378_11eb_a48b_02420a39886crow4_col1\" class=\"data row4 col1\" >7.76%</td>\n",
       "            </tr>\n",
       "    </tbody></table>"
      ],
      "text/plain": [
       "<pandas.io.formats.style.Styler at 0x7f2a9dafdb50>"
      ]
     },
     "execution_count": 50,
     "metadata": {},
     "output_type": "execute_result"
    }
   ],
   "source": [
    "#Сводная таблица для 5 самых популярных платформ в Северной Америке\n",
    "games_act_na = games_act.pivot_table(index = ['platform'], values = ['na_sales'] , aggfunc=['sum'])\n",
    "games_act_na.columns = ['na_sum']\n",
    "games_act_na = games_act_na.sort_values(by = 'na_sum', ascending = False)\n",
    "games_act_na['sales_%'] = games_act_na['na_sum'] / games_act_na['na_sum'].sum()\n",
    "games_act_na.iloc[:5].style.format({'sales_%' : '{:.2%}'})"
   ]
  },
  {
   "cell_type": "code",
   "execution_count": 51,
   "id": "e3b28883",
   "metadata": {},
   "outputs": [
    {
     "data": {
      "text/html": [
       "<style  type=\"text/css\" >\n",
       "</style><table id=\"T_339f0d18_e378_11eb_a48b_02420a39886c\" ><thead>    <tr>        <th class=\"blank level0\" ></th>        <th class=\"col_heading level0 col0\" >eu_sum</th>        <th class=\"col_heading level0 col1\" >sales_%</th>    </tr>    <tr>        <th class=\"index_name level0\" >platform</th>        <th class=\"blank\" ></th>        <th class=\"blank\" ></th>    </tr></thead><tbody>\n",
       "                <tr>\n",
       "                        <th id=\"T_339f0d18_e378_11eb_a48b_02420a39886clevel0_row0\" class=\"row_heading level0 row0\" >ps4</th>\n",
       "                        <td id=\"T_339f0d18_e378_11eb_a48b_02420a39886crow0_col0\" class=\"data row0 col0\" >130.04</td>\n",
       "                        <td id=\"T_339f0d18_e378_11eb_a48b_02420a39886crow0_col1\" class=\"data row0 col1\" >48.04%</td>\n",
       "            </tr>\n",
       "            <tr>\n",
       "                        <th id=\"T_339f0d18_e378_11eb_a48b_02420a39886clevel0_row1\" class=\"row_heading level0 row1\" >xone</th>\n",
       "                        <td id=\"T_339f0d18_e378_11eb_a48b_02420a39886crow1_col0\" class=\"data row1 col0\" >46.25</td>\n",
       "                        <td id=\"T_339f0d18_e378_11eb_a48b_02420a39886crow1_col1\" class=\"data row1 col1\" >17.09%</td>\n",
       "            </tr>\n",
       "            <tr>\n",
       "                        <th id=\"T_339f0d18_e378_11eb_a48b_02420a39886clevel0_row2\" class=\"row_heading level0 row2\" >ps3</th>\n",
       "                        <td id=\"T_339f0d18_e378_11eb_a48b_02420a39886crow2_col0\" class=\"data row2 col0\" >25.54</td>\n",
       "                        <td id=\"T_339f0d18_e378_11eb_a48b_02420a39886crow2_col1\" class=\"data row2 col1\" >9.44%</td>\n",
       "            </tr>\n",
       "            <tr>\n",
       "                        <th id=\"T_339f0d18_e378_11eb_a48b_02420a39886clevel0_row3\" class=\"row_heading level0 row3\" >pc</th>\n",
       "                        <td id=\"T_339f0d18_e378_11eb_a48b_02420a39886crow3_col0\" class=\"data row3 col0\" >17.97</td>\n",
       "                        <td id=\"T_339f0d18_e378_11eb_a48b_02420a39886crow3_col1\" class=\"data row3 col1\" >6.64%</td>\n",
       "            </tr>\n",
       "            <tr>\n",
       "                        <th id=\"T_339f0d18_e378_11eb_a48b_02420a39886clevel0_row4\" class=\"row_heading level0 row4\" >3ds</th>\n",
       "                        <td id=\"T_339f0d18_e378_11eb_a48b_02420a39886crow4_col0\" class=\"data row4 col0\" >16.12</td>\n",
       "                        <td id=\"T_339f0d18_e378_11eb_a48b_02420a39886crow4_col1\" class=\"data row4 col1\" >5.96%</td>\n",
       "            </tr>\n",
       "    </tbody></table>"
      ],
      "text/plain": [
       "<pandas.io.formats.style.Styler at 0x7f2a94fdf7d0>"
      ]
     },
     "execution_count": 51,
     "metadata": {},
     "output_type": "execute_result"
    }
   ],
   "source": [
    "#Сводная таблица для 5 самых популярных платформ в Европе\n",
    "games_act_eu = games_act.pivot_table(index = ['platform'], values = ['eu_sales'] , aggfunc=['sum'])\n",
    "games_act_eu.columns = ['eu_sum']\n",
    "games_act_eu = games_act_eu.sort_values(by = 'eu_sum', ascending = False)\n",
    "games_act_eu['sales_%'] = games_act_eu['eu_sum'] / games_act_eu['eu_sum'].sum()\n",
    "games_act_eu.iloc[:5].style.format({'sales_%' : '{:.2%}'})"
   ]
  },
  {
   "cell_type": "code",
   "execution_count": 52,
   "id": "98eb70d4",
   "metadata": {},
   "outputs": [
    {
     "data": {
      "text/html": [
       "<style  type=\"text/css\" >\n",
       "</style><table id=\"T_33b63f2e_e378_11eb_a48b_02420a39886c\" ><thead>    <tr>        <th class=\"blank level0\" ></th>        <th class=\"col_heading level0 col0\" >jp_sum</th>        <th class=\"col_heading level0 col1\" >sales_%</th>    </tr>    <tr>        <th class=\"index_name level0\" >platform</th>        <th class=\"blank\" ></th>        <th class=\"blank\" ></th>    </tr></thead><tbody>\n",
       "                <tr>\n",
       "                        <th id=\"T_33b63f2e_e378_11eb_a48b_02420a39886clevel0_row0\" class=\"row_heading level0 row0\" >3ds</th>\n",
       "                        <td id=\"T_33b63f2e_e378_11eb_a48b_02420a39886crow0_col0\" class=\"data row0 col0\" >44.24</td>\n",
       "                        <td id=\"T_33b63f2e_e378_11eb_a48b_02420a39886crow0_col1\" class=\"data row0 col1\" >47.52%</td>\n",
       "            </tr>\n",
       "            <tr>\n",
       "                        <th id=\"T_33b63f2e_e378_11eb_a48b_02420a39886clevel0_row1\" class=\"row_heading level0 row1\" >ps4</th>\n",
       "                        <td id=\"T_33b63f2e_e378_11eb_a48b_02420a39886crow1_col0\" class=\"data row1 col0\" >15.02</td>\n",
       "                        <td id=\"T_33b63f2e_e378_11eb_a48b_02420a39886crow1_col1\" class=\"data row1 col1\" >16.13%</td>\n",
       "            </tr>\n",
       "            <tr>\n",
       "                        <th id=\"T_33b63f2e_e378_11eb_a48b_02420a39886clevel0_row2\" class=\"row_heading level0 row2\" >psv</th>\n",
       "                        <td id=\"T_33b63f2e_e378_11eb_a48b_02420a39886crow2_col0\" class=\"data row2 col0\" >14.54</td>\n",
       "                        <td id=\"T_33b63f2e_e378_11eb_a48b_02420a39886crow2_col1\" class=\"data row2 col1\" >15.62%</td>\n",
       "            </tr>\n",
       "            <tr>\n",
       "                        <th id=\"T_33b63f2e_e378_11eb_a48b_02420a39886clevel0_row3\" class=\"row_heading level0 row3\" >ps3</th>\n",
       "                        <td id=\"T_33b63f2e_e378_11eb_a48b_02420a39886crow3_col0\" class=\"data row3 col0\" >11.22</td>\n",
       "                        <td id=\"T_33b63f2e_e378_11eb_a48b_02420a39886crow3_col1\" class=\"data row3 col1\" >12.05%</td>\n",
       "            </tr>\n",
       "            <tr>\n",
       "                        <th id=\"T_33b63f2e_e378_11eb_a48b_02420a39886clevel0_row4\" class=\"row_heading level0 row4\" >wiiu</th>\n",
       "                        <td id=\"T_33b63f2e_e378_11eb_a48b_02420a39886crow4_col0\" class=\"data row4 col0\" >7.31</td>\n",
       "                        <td id=\"T_33b63f2e_e378_11eb_a48b_02420a39886crow4_col1\" class=\"data row4 col1\" >7.85%</td>\n",
       "            </tr>\n",
       "    </tbody></table>"
      ],
      "text/plain": [
       "<pandas.io.formats.style.Styler at 0x7f2a9e012090>"
      ]
     },
     "execution_count": 52,
     "metadata": {},
     "output_type": "execute_result"
    }
   ],
   "source": [
    "#Сводная таблица для 5 самых популярных платформ в Японии\n",
    "games_act_jp = games_act.pivot_table(index = ['platform'], values = ['jp_sales'] , aggfunc=['sum'])\n",
    "games_act_jp.columns = ['jp_sum']\n",
    "games_act_jp = games_act_jp.sort_values(by = 'jp_sum', ascending = False)\n",
    "games_act_jp['sales_%'] = games_act_jp['jp_sum'] / games_act_jp['jp_sum'].sum()\n",
    "games_act_jp.iloc[:5].style.format({'sales_%' : '{:.2%}'})"
   ]
  },
  {
   "cell_type": "code",
   "execution_count": 53,
   "id": "50286b30",
   "metadata": {},
   "outputs": [
    {
     "data": {
      "text/html": [
       "<style  type=\"text/css\" >\n",
       "</style><table id=\"T_33bbab80_e378_11eb_a48b_02420a39886c\" ><thead>    <tr>        <th class=\"blank level0\" ></th>        <th class=\"col_heading level0 col0\" >eu_sales</th>        <th class=\"col_heading level0 col1\" >jp_sales</th>        <th class=\"col_heading level0 col2\" >na_sales</th>        <th class=\"col_heading level0 col3\" >sum_sales</th>        <th class=\"col_heading level0 col4\" >sum_sales_%</th>    </tr>    <tr>        <th class=\"index_name level0\" >platform</th>        <th class=\"blank\" ></th>        <th class=\"blank\" ></th>        <th class=\"blank\" ></th>        <th class=\"blank\" ></th>        <th class=\"blank\" ></th>    </tr></thead><tbody>\n",
       "                <tr>\n",
       "                        <th id=\"T_33bbab80_e378_11eb_a48b_02420a39886clevel0_row0\" class=\"row_heading level0 row0\" >ps4</th>\n",
       "                        <td id=\"T_33bbab80_e378_11eb_a48b_02420a39886crow0_col0\" class=\"data row0 col0\" >130.04</td>\n",
       "                        <td id=\"T_33bbab80_e378_11eb_a48b_02420a39886crow0_col1\" class=\"data row0 col1\" >15.02</td>\n",
       "                        <td id=\"T_33bbab80_e378_11eb_a48b_02420a39886crow0_col2\" class=\"data row0 col2\" >98.61</td>\n",
       "                        <td id=\"T_33bbab80_e378_11eb_a48b_02420a39886crow0_col3\" class=\"data row0 col3\" >243.67</td>\n",
       "                        <td id=\"T_33bbab80_e378_11eb_a48b_02420a39886crow0_col4\" class=\"data row0 col4\" >37.61%</td>\n",
       "            </tr>\n",
       "            <tr>\n",
       "                        <th id=\"T_33bbab80_e378_11eb_a48b_02420a39886clevel0_row1\" class=\"row_heading level0 row1\" >xone</th>\n",
       "                        <td id=\"T_33bbab80_e378_11eb_a48b_02420a39886crow1_col0\" class=\"data row1 col0\" >46.25</td>\n",
       "                        <td id=\"T_33bbab80_e378_11eb_a48b_02420a39886crow1_col1\" class=\"data row1 col1\" >0.32</td>\n",
       "                        <td id=\"T_33bbab80_e378_11eb_a48b_02420a39886crow1_col2\" class=\"data row1 col2\" >81.27</td>\n",
       "                        <td id=\"T_33bbab80_e378_11eb_a48b_02420a39886crow1_col3\" class=\"data row1 col3\" >127.84</td>\n",
       "                        <td id=\"T_33bbab80_e378_11eb_a48b_02420a39886crow1_col4\" class=\"data row1 col4\" >19.73%</td>\n",
       "            </tr>\n",
       "            <tr>\n",
       "                        <th id=\"T_33bbab80_e378_11eb_a48b_02420a39886clevel0_row2\" class=\"row_heading level0 row2\" >3ds</th>\n",
       "                        <td id=\"T_33bbab80_e378_11eb_a48b_02420a39886crow2_col0\" class=\"data row2 col0\" >16.12</td>\n",
       "                        <td id=\"T_33bbab80_e378_11eb_a48b_02420a39886crow2_col1\" class=\"data row2 col1\" >44.24</td>\n",
       "                        <td id=\"T_33bbab80_e378_11eb_a48b_02420a39886crow2_col2\" class=\"data row2 col2\" >22.64</td>\n",
       "                        <td id=\"T_33bbab80_e378_11eb_a48b_02420a39886crow2_col3\" class=\"data row2 col3\" >83</td>\n",
       "                        <td id=\"T_33bbab80_e378_11eb_a48b_02420a39886crow2_col4\" class=\"data row2 col4\" >12.81%</td>\n",
       "            </tr>\n",
       "            <tr>\n",
       "                        <th id=\"T_33bbab80_e378_11eb_a48b_02420a39886clevel0_row3\" class=\"row_heading level0 row3\" >ps3</th>\n",
       "                        <td id=\"T_33bbab80_e378_11eb_a48b_02420a39886crow3_col0\" class=\"data row3 col0\" >25.54</td>\n",
       "                        <td id=\"T_33bbab80_e378_11eb_a48b_02420a39886crow3_col1\" class=\"data row3 col1\" >11.22</td>\n",
       "                        <td id=\"T_33bbab80_e378_11eb_a48b_02420a39886crow3_col2\" class=\"data row3 col2\" >22.05</td>\n",
       "                        <td id=\"T_33bbab80_e378_11eb_a48b_02420a39886crow3_col3\" class=\"data row3 col3\" >58.81</td>\n",
       "                        <td id=\"T_33bbab80_e378_11eb_a48b_02420a39886crow3_col4\" class=\"data row3 col4\" >9.08%</td>\n",
       "            </tr>\n",
       "            <tr>\n",
       "                        <th id=\"T_33bbab80_e378_11eb_a48b_02420a39886clevel0_row4\" class=\"row_heading level0 row4\" >x360</th>\n",
       "                        <td id=\"T_33bbab80_e378_11eb_a48b_02420a39886crow4_col0\" class=\"data row4 col0\" >15.49</td>\n",
       "                        <td id=\"T_33bbab80_e378_11eb_a48b_02420a39886crow4_col1\" class=\"data row4 col1\" >0.08</td>\n",
       "                        <td id=\"T_33bbab80_e378_11eb_a48b_02420a39886crow4_col2\" class=\"data row4 col2\" >28.3</td>\n",
       "                        <td id=\"T_33bbab80_e378_11eb_a48b_02420a39886crow4_col3\" class=\"data row4 col3\" >43.87</td>\n",
       "                        <td id=\"T_33bbab80_e378_11eb_a48b_02420a39886crow4_col4\" class=\"data row4 col4\" >6.77%</td>\n",
       "            </tr>\n",
       "    </tbody></table>"
      ],
      "text/plain": [
       "<pandas.io.formats.style.Styler at 0x7f2a95361890>"
      ]
     },
     "execution_count": 53,
     "metadata": {},
     "output_type": "execute_result"
    }
   ],
   "source": [
    "#Сводная таблица для 5 самых популярных платформ для всех регионов\n",
    "games_act_all = games_act.pivot_table(index = ['platform'], values = ['na_sales', 'eu_sales', 'jp_sales'] , aggfunc=['sum'])\n",
    "games_act_all['sum_sales'] = games_act_all['sum', 'eu_sales']+games_act_all['sum', 'jp_sales']+games_act_all['sum', 'na_sales']\n",
    "games_act_all['sum_sales_%'] = games_act_all['sum_sales'] / games_act_all['sum_sales'].sum()\n",
    "games_act_all.columns = ['eu_sales','jp_sales','na_sales','sum_sales','sum_sales_%']\n",
    "games_act_all = games_act_all.sort_values(by='sum_sales', ascending = False)\n",
    "games_act_all.iloc[:5].style.format({'sum_sales_%': '{:.2%}'})"
   ]
  },
  {
   "cell_type": "code",
   "execution_count": 54,
   "id": "681e6d6b",
   "metadata": {},
   "outputs": [
    {
     "data": {
      "image/png": "[encoded data removed]",
      "text/plain": [
       "<Figure size 1080x432 with 1 Axes>"
      ]
     },
     "metadata": {
      "needs_background": "light"
     },
     "output_type": "display_data"
    }
   ],
   "source": [
    "#Построим гистограмму, отражающую распределение по регионам и платформам\n",
    "ax = games_act_all.iloc[:5, :3].plot.bar(rot=0, figsize = (15, 6), grid = True)\n",
    "ax.set_title('Распределение по регионам и платформам') #подписали график\n",
    "plt.legend()\n",
    "plt.xlabel('platform') #подписали ось х\n",
    "plt.ylabel('sales') #подписали ось y\n",
    "plt.show()"
   ]
  },
  {
   "cell_type": "markdown",
   "id": "2a1d0a4b",
   "metadata": {},
   "source": [
    "В европейском регионе самая популярная платформа ps4, почти 50% рынка и проданных копий игр по ней больше, чем в Северной Америке. В Европе ps4 значительно отрывается от конкурентов. Для Северной Америки ps4 также самая популярная платформа (35%), но разрыв между ней и ближайшим конкурентом xone не так высок. В Японии самая популярная платформа 3ds, 47% рынка. В Японии количество проданных ирг на ps3 и ps4 практически одинаково, хотя в Европе и США ps4 значительно популярнее.\n",
    "\n",
    "Определим для пользователей каждого региона самые популярные жанры"
   ]
  },
  {
   "cell_type": "code",
   "execution_count": 55,
   "id": "2fe370bd",
   "metadata": {},
   "outputs": [
    {
     "data": {
      "text/html": [
       "<style  type=\"text/css\" >\n",
       "</style><table id=\"T_340544ac_e378_11eb_a48b_02420a39886c\" ><thead>    <tr>        <th class=\"blank level0\" ></th>        <th class=\"col_heading level0 col0\" >na_sum</th>        <th class=\"col_heading level0 col1\" >sales_%</th>    </tr>    <tr>        <th class=\"index_name level0\" >genre</th>        <th class=\"blank\" ></th>        <th class=\"blank\" ></th>    </tr></thead><tbody>\n",
       "                <tr>\n",
       "                        <th id=\"T_340544ac_e378_11eb_a48b_02420a39886clevel0_row0\" class=\"row_heading level0 row0\" >Shooter</th>\n",
       "                        <td id=\"T_340544ac_e378_11eb_a48b_02420a39886crow0_col0\" class=\"data row0 col0\" >79.02</td>\n",
       "                        <td id=\"T_340544ac_e378_11eb_a48b_02420a39886crow0_col1\" class=\"data row0 col1\" >27.82%</td>\n",
       "            </tr>\n",
       "            <tr>\n",
       "                        <th id=\"T_340544ac_e378_11eb_a48b_02420a39886clevel0_row1\" class=\"row_heading level0 row1\" >Action</th>\n",
       "                        <td id=\"T_340544ac_e378_11eb_a48b_02420a39886crow1_col0\" class=\"data row1 col0\" >72.53</td>\n",
       "                        <td id=\"T_340544ac_e378_11eb_a48b_02420a39886crow1_col1\" class=\"data row1 col1\" >25.53%</td>\n",
       "            </tr>\n",
       "            <tr>\n",
       "                        <th id=\"T_340544ac_e378_11eb_a48b_02420a39886clevel0_row2\" class=\"row_heading level0 row2\" >Sports</th>\n",
       "                        <td id=\"T_340544ac_e378_11eb_a48b_02420a39886crow2_col0\" class=\"data row2 col0\" >46.13</td>\n",
       "                        <td id=\"T_340544ac_e378_11eb_a48b_02420a39886crow2_col1\" class=\"data row2 col1\" >16.24%</td>\n",
       "            </tr>\n",
       "            <tr>\n",
       "                        <th id=\"T_340544ac_e378_11eb_a48b_02420a39886clevel0_row3\" class=\"row_heading level0 row3\" >Role-Playing</th>\n",
       "                        <td id=\"T_340544ac_e378_11eb_a48b_02420a39886crow3_col0\" class=\"data row3 col0\" >33.47</td>\n",
       "                        <td id=\"T_340544ac_e378_11eb_a48b_02420a39886crow3_col1\" class=\"data row3 col1\" >11.78%</td>\n",
       "            </tr>\n",
       "            <tr>\n",
       "                        <th id=\"T_340544ac_e378_11eb_a48b_02420a39886clevel0_row4\" class=\"row_heading level0 row4\" >Misc</th>\n",
       "                        <td id=\"T_340544ac_e378_11eb_a48b_02420a39886crow4_col0\" class=\"data row4 col0\" >15.05</td>\n",
       "                        <td id=\"T_340544ac_e378_11eb_a48b_02420a39886crow4_col1\" class=\"data row4 col1\" >5.30%</td>\n",
       "            </tr>\n",
       "    </tbody></table>"
      ],
      "text/plain": [
       "<pandas.io.formats.style.Styler at 0x7f2a9dcf9c50>"
      ]
     },
     "execution_count": 55,
     "metadata": {},
     "output_type": "execute_result"
    }
   ],
   "source": [
    "#Сводная таблица для 5 самых популярных жанров в Северной Америке\n",
    "games_act_na_genre = games_act.pivot_table(index = ['genre'], values = ['na_sales'] , aggfunc=['sum'])\n",
    "games_act_na_genre.columns = ['na_sum']\n",
    "games_act_na_genre = games_act_na_genre.sort_values(by = 'na_sum', ascending = False)\n",
    "games_act_na_genre['sales_%'] = games_act_na_genre['na_sum'] / games_act_na_genre['na_sum'].sum()\n",
    "games_act_na_genre.iloc[:5].style.format({'sales_%' : '{:.2%}'})"
   ]
  },
  {
   "cell_type": "code",
   "execution_count": 56,
   "id": "a05a6296",
   "metadata": {},
   "outputs": [
    {
     "data": {
      "text/html": [
       "<style  type=\"text/css\" >\n",
       "</style><table id=\"T_34097c52_e378_11eb_a48b_02420a39886c\" ><thead>    <tr>        <th class=\"blank level0\" ></th>        <th class=\"col_heading level0 col0\" >eu_sum</th>        <th class=\"col_heading level0 col1\" >sales_%</th>    </tr>    <tr>        <th class=\"index_name level0\" >genre</th>        <th class=\"blank\" ></th>        <th class=\"blank\" ></th>    </tr></thead><tbody>\n",
       "                <tr>\n",
       "                        <th id=\"T_34097c52_e378_11eb_a48b_02420a39886clevel0_row0\" class=\"row_heading level0 row0\" >Action</th>\n",
       "                        <td id=\"T_34097c52_e378_11eb_a48b_02420a39886crow0_col0\" class=\"data row0 col0\" >74.68</td>\n",
       "                        <td id=\"T_34097c52_e378_11eb_a48b_02420a39886crow0_col1\" class=\"data row0 col1\" >27.59%</td>\n",
       "            </tr>\n",
       "            <tr>\n",
       "                        <th id=\"T_34097c52_e378_11eb_a48b_02420a39886clevel0_row1\" class=\"row_heading level0 row1\" >Shooter</th>\n",
       "                        <td id=\"T_34097c52_e378_11eb_a48b_02420a39886crow1_col0\" class=\"data row1 col0\" >65.52</td>\n",
       "                        <td id=\"T_34097c52_e378_11eb_a48b_02420a39886crow1_col1\" class=\"data row1 col1\" >24.21%</td>\n",
       "            </tr>\n",
       "            <tr>\n",
       "                        <th id=\"T_34097c52_e378_11eb_a48b_02420a39886clevel0_row2\" class=\"row_heading level0 row2\" >Sports</th>\n",
       "                        <td id=\"T_34097c52_e378_11eb_a48b_02420a39886crow2_col0\" class=\"data row2 col0\" >45.73</td>\n",
       "                        <td id=\"T_34097c52_e378_11eb_a48b_02420a39886crow2_col1\" class=\"data row2 col1\" >16.89%</td>\n",
       "            </tr>\n",
       "            <tr>\n",
       "                        <th id=\"T_34097c52_e378_11eb_a48b_02420a39886clevel0_row3\" class=\"row_heading level0 row3\" >Role-Playing</th>\n",
       "                        <td id=\"T_34097c52_e378_11eb_a48b_02420a39886crow3_col0\" class=\"data row3 col0\" >28.17</td>\n",
       "                        <td id=\"T_34097c52_e378_11eb_a48b_02420a39886crow3_col1\" class=\"data row3 col1\" >10.41%</td>\n",
       "            </tr>\n",
       "            <tr>\n",
       "                        <th id=\"T_34097c52_e378_11eb_a48b_02420a39886clevel0_row4\" class=\"row_heading level0 row4\" >Racing</th>\n",
       "                        <td id=\"T_34097c52_e378_11eb_a48b_02420a39886crow4_col0\" class=\"data row4 col0\" >14.13</td>\n",
       "                        <td id=\"T_34097c52_e378_11eb_a48b_02420a39886crow4_col1\" class=\"data row4 col1\" >5.22%</td>\n",
       "            </tr>\n",
       "    </tbody></table>"
      ],
      "text/plain": [
       "<pandas.io.formats.style.Styler at 0x7f2a9535c410>"
      ]
     },
     "execution_count": 56,
     "metadata": {},
     "output_type": "execute_result"
    }
   ],
   "source": [
    "#Сводная таблица для 5 самых популярных жанров в Европе\n",
    "games_act_eu_genre = games_act.pivot_table(index = ['genre'], values = ['eu_sales'] , aggfunc=['sum'])\n",
    "games_act_eu_genre.columns = ['eu_sum']\n",
    "games_act_eu_genre = games_act_eu_genre.sort_values(by = 'eu_sum', ascending = False)\n",
    "games_act_eu_genre['sales_%'] = games_act_eu_genre['eu_sum'] / games_act_eu_genre['eu_sum'].sum()\n",
    "games_act_eu_genre.iloc[:5].style.format({'sales_%' : '{:.2%}'})"
   ]
  },
  {
   "cell_type": "code",
   "execution_count": 57,
   "id": "d2064b8a",
   "metadata": {},
   "outputs": [
    {
     "data": {
      "text/html": [
       "<style  type=\"text/css\" >\n",
       "</style><table id=\"T_34136b90_e378_11eb_a48b_02420a39886c\" ><thead>    <tr>        <th class=\"blank level0\" ></th>        <th class=\"col_heading level0 col0\" >jp_sum</th>        <th class=\"col_heading level0 col1\" >sales_%</th>    </tr>    <tr>        <th class=\"index_name level0\" >genre</th>        <th class=\"blank\" ></th>        <th class=\"blank\" ></th>    </tr></thead><tbody>\n",
       "                <tr>\n",
       "                        <th id=\"T_34136b90_e378_11eb_a48b_02420a39886clevel0_row0\" class=\"row_heading level0 row0\" >Role-Playing</th>\n",
       "                        <td id=\"T_34136b90_e378_11eb_a48b_02420a39886crow0_col0\" class=\"data row0 col0\" >31.16</td>\n",
       "                        <td id=\"T_34136b90_e378_11eb_a48b_02420a39886crow0_col1\" class=\"data row0 col1\" >33.47%</td>\n",
       "            </tr>\n",
       "            <tr>\n",
       "                        <th id=\"T_34136b90_e378_11eb_a48b_02420a39886clevel0_row1\" class=\"row_heading level0 row1\" >Action</th>\n",
       "                        <td id=\"T_34136b90_e378_11eb_a48b_02420a39886crow1_col0\" class=\"data row1 col0\" >29.58</td>\n",
       "                        <td id=\"T_34136b90_e378_11eb_a48b_02420a39886crow1_col1\" class=\"data row1 col1\" >31.78%</td>\n",
       "            </tr>\n",
       "            <tr>\n",
       "                        <th id=\"T_34136b90_e378_11eb_a48b_02420a39886clevel0_row2\" class=\"row_heading level0 row2\" >Fighting</th>\n",
       "                        <td id=\"T_34136b90_e378_11eb_a48b_02420a39886crow2_col0\" class=\"data row2 col0\" >6.37</td>\n",
       "                        <td id=\"T_34136b90_e378_11eb_a48b_02420a39886crow2_col1\" class=\"data row2 col1\" >6.84%</td>\n",
       "            </tr>\n",
       "            <tr>\n",
       "                        <th id=\"T_34136b90_e378_11eb_a48b_02420a39886clevel0_row3\" class=\"row_heading level0 row3\" >Misc</th>\n",
       "                        <td id=\"T_34136b90_e378_11eb_a48b_02420a39886crow3_col0\" class=\"data row3 col0\" >5.61</td>\n",
       "                        <td id=\"T_34136b90_e378_11eb_a48b_02420a39886crow3_col1\" class=\"data row3 col1\" >6.03%</td>\n",
       "            </tr>\n",
       "            <tr>\n",
       "                        <th id=\"T_34136b90_e378_11eb_a48b_02420a39886clevel0_row4\" class=\"row_heading level0 row4\" >Shooter</th>\n",
       "                        <td id=\"T_34136b90_e378_11eb_a48b_02420a39886crow4_col0\" class=\"data row4 col0\" >4.87</td>\n",
       "                        <td id=\"T_34136b90_e378_11eb_a48b_02420a39886crow4_col1\" class=\"data row4 col1\" >5.23%</td>\n",
       "            </tr>\n",
       "    </tbody></table>"
      ],
      "text/plain": [
       "<pandas.io.formats.style.Styler at 0x7f2a9db31810>"
      ]
     },
     "execution_count": 57,
     "metadata": {},
     "output_type": "execute_result"
    }
   ],
   "source": [
    "#Сводная таблица для 5 самых популярных жанров в Японии\n",
    "games_act_jp_genre = games_act.pivot_table(index = ['genre'], values = ['jp_sales'] , aggfunc=['sum'])\n",
    "games_act_jp_genre.columns = ['jp_sum']\n",
    "games_act_jp_genre = games_act_jp_genre.sort_values(by = 'jp_sum', ascending = False)\n",
    "games_act_jp_genre['sales_%'] = games_act_jp_genre['jp_sum'] / games_act_jp_genre['jp_sum'].sum()\n",
    "games_act_jp_genre.iloc[:5].style.format({'sales_%' : '{:.2%}'})"
   ]
  },
  {
   "cell_type": "code",
   "execution_count": 58,
   "id": "ee7be4c2",
   "metadata": {},
   "outputs": [],
   "source": [
    "#Сводная таблица для 5 самых популярных жанров для всех регионов\n",
    "games_act_all_genre = games_act.pivot_table(index = ['genre'], values = ['na_sales', 'eu_sales', 'jp_sales'] , aggfunc=['sum'])\n",
    "games_act_all_genre.columns\n",
    "games_act_all_genre['sum_sales'] = games_act_all_genre['sum', 'eu_sales']+games_act_all_genre['sum', 'jp_sales']+games_act_all_genre['sum', 'na_sales']\n",
    "games_act_all_genre = games_act_all_genre.sort_values(by='sum_sales', ascending = False)"
   ]
  },
  {
   "cell_type": "code",
   "execution_count": 59,
   "id": "87e7d8b0",
   "metadata": {},
   "outputs": [
    {
     "data": {
      "image/png": "[encoded data removed]",
      "text/plain": [
       "<Figure size 1080x432 with 1 Axes>"
      ]
     },
     "metadata": {
      "needs_background": "light"
     },
     "output_type": "display_data"
    }
   ],
   "source": [
    "#Построим гистограмму, отражающую распределение по регионам и жанрам\n",
    "ax = games_act_all_genre.iloc[:6, :3].plot.bar(rot=0, figsize = (15, 6), grid = True)\n",
    "ax.set_title('Распределение по регионам и жанрам') #подписали график\n",
    "plt.legend()\n",
    "plt.xlabel('genre') #подписали ось х\n",
    "plt.ylabel('sales') #подписали ось y\n",
    "plt.show()"
   ]
  },
  {
   "cell_type": "markdown",
   "id": "0e1163fd",
   "metadata": {},
   "source": [
    "В Европе и Северной Америке симпатии по жанрам схожи, распределения по предпочтениям более плавное, чем в Японии. \n",
    "В Европе больше любят Action, в США - Shooter, но по продажам показатели примерно сопоставимы, 25-27%. Существенно отличаются предпочтения в Японии, там любимый жанр Role-Playing, занимает 34% рынка. Следующий любимый жанр в Японии - Action, 31%. Остальные жанры - уже от 7% рынка и менее. \n",
    "\n",
    "Посмотрим, какой рейтинг ESRB популярнее в каждом регионе."
   ]
  },
  {
   "cell_type": "code",
   "execution_count": 60,
   "id": "a79d7de6",
   "metadata": {},
   "outputs": [
    {
     "data": {
      "text/html": [
       "<style  type=\"text/css\" >\n",
       "</style><table id=\"T_346544ec_e378_11eb_a48b_02420a39886c\" ><thead>    <tr>        <th class=\"blank level0\" ></th>        <th class=\"col_heading level0 col0\" >eu_sales</th>        <th class=\"col_heading level0 col1\" >jp_sales</th>        <th class=\"col_heading level0 col2\" >na_sales</th>        <th class=\"col_heading level0 col3\" >eu_sales_%</th>        <th class=\"col_heading level0 col4\" >jp_sales_%</th>        <th class=\"col_heading level0 col5\" >na_sales_%</th>    </tr>    <tr>        <th class=\"index_name level0\" >rating</th>        <th class=\"blank\" ></th>        <th class=\"blank\" ></th>        <th class=\"blank\" ></th>        <th class=\"blank\" ></th>        <th class=\"blank\" ></th>        <th class=\"blank\" ></th>    </tr></thead><tbody>\n",
       "                <tr>\n",
       "                        <th id=\"T_346544ec_e378_11eb_a48b_02420a39886clevel0_row0\" class=\"row_heading level0 row0\" >E</th>\n",
       "                        <td id=\"T_346544ec_e378_11eb_a48b_02420a39886crow0_col0\" class=\"data row0 col0\" >58.06</td>\n",
       "                        <td id=\"T_346544ec_e378_11eb_a48b_02420a39886crow0_col1\" class=\"data row0 col1\" >8.94</td>\n",
       "                        <td id=\"T_346544ec_e378_11eb_a48b_02420a39886crow0_col2\" class=\"data row0 col2\" >50.74</td>\n",
       "                        <td id=\"T_346544ec_e378_11eb_a48b_02420a39886crow0_col3\" class=\"data row0 col3\" >27.42%</td>\n",
       "                        <td id=\"T_346544ec_e378_11eb_a48b_02420a39886crow0_col4\" class=\"data row0 col4\" >24.70%</td>\n",
       "                        <td id=\"T_346544ec_e378_11eb_a48b_02420a39886crow0_col5\" class=\"data row0 col5\" >23.13%</td>\n",
       "            </tr>\n",
       "            <tr>\n",
       "                        <th id=\"T_346544ec_e378_11eb_a48b_02420a39886clevel0_row1\" class=\"row_heading level0 row1\" >E10+</th>\n",
       "                        <td id=\"T_346544ec_e378_11eb_a48b_02420a39886crow1_col0\" class=\"data row1 col0\" >26.16</td>\n",
       "                        <td id=\"T_346544ec_e378_11eb_a48b_02420a39886crow1_col1\" class=\"data row1 col1\" >4.46</td>\n",
       "                        <td id=\"T_346544ec_e378_11eb_a48b_02420a39886crow1_col2\" class=\"data row1 col2\" >33.23</td>\n",
       "                        <td id=\"T_346544ec_e378_11eb_a48b_02420a39886crow1_col3\" class=\"data row1 col3\" >12.36%</td>\n",
       "                        <td id=\"T_346544ec_e378_11eb_a48b_02420a39886crow1_col4\" class=\"data row1 col4\" >12.32%</td>\n",
       "                        <td id=\"T_346544ec_e378_11eb_a48b_02420a39886crow1_col5\" class=\"data row1 col5\" >15.15%</td>\n",
       "            </tr>\n",
       "            <tr>\n",
       "                        <th id=\"T_346544ec_e378_11eb_a48b_02420a39886clevel0_row2\" class=\"row_heading level0 row2\" >M</th>\n",
       "                        <td id=\"T_346544ec_e378_11eb_a48b_02420a39886crow2_col0\" class=\"data row2 col0\" >93.44</td>\n",
       "                        <td id=\"T_346544ec_e378_11eb_a48b_02420a39886crow2_col1\" class=\"data row2 col1\" >8.01</td>\n",
       "                        <td id=\"T_346544ec_e378_11eb_a48b_02420a39886crow2_col2\" class=\"data row2 col2\" >96.42</td>\n",
       "                        <td id=\"T_346544ec_e378_11eb_a48b_02420a39886crow2_col3\" class=\"data row2 col3\" >44.13%</td>\n",
       "                        <td id=\"T_346544ec_e378_11eb_a48b_02420a39886crow2_col4\" class=\"data row2 col4\" >22.13%</td>\n",
       "                        <td id=\"T_346544ec_e378_11eb_a48b_02420a39886crow2_col5\" class=\"data row2 col5\" >43.96%</td>\n",
       "            </tr>\n",
       "            <tr>\n",
       "                        <th id=\"T_346544ec_e378_11eb_a48b_02420a39886clevel0_row3\" class=\"row_heading level0 row3\" >T</th>\n",
       "                        <td id=\"T_346544ec_e378_11eb_a48b_02420a39886crow3_col0\" class=\"data row3 col0\" >34.07</td>\n",
       "                        <td id=\"T_346544ec_e378_11eb_a48b_02420a39886crow3_col1\" class=\"data row3 col1\" >14.78</td>\n",
       "                        <td id=\"T_346544ec_e378_11eb_a48b_02420a39886crow3_col2\" class=\"data row3 col2\" >38.95</td>\n",
       "                        <td id=\"T_346544ec_e378_11eb_a48b_02420a39886crow3_col3\" class=\"data row3 col3\" >16.09%</td>\n",
       "                        <td id=\"T_346544ec_e378_11eb_a48b_02420a39886crow3_col4\" class=\"data row3 col4\" >40.84%</td>\n",
       "                        <td id=\"T_346544ec_e378_11eb_a48b_02420a39886crow3_col5\" class=\"data row3 col5\" >17.76%</td>\n",
       "            </tr>\n",
       "    </tbody></table>"
      ],
      "text/plain": [
       "<pandas.io.formats.style.Styler at 0x7f2a9dbe8110>"
      ]
     },
     "execution_count": 60,
     "metadata": {},
     "output_type": "execute_result"
    }
   ],
   "source": [
    "games_rating = games_act.dropna(subset = ['rating'])\n",
    "games_rating_piv_1 = games_rating.groupby('rating')[['eu_sales', 'jp_sales', 'na_sales']].sum()\n",
    "games_rating_piv_1[['eu_sales_%', 'jp_sales_%', 'na_sales_%']] = games_rating_piv_1[['eu_sales', 'jp_sales', 'na_sales']] / games_rating_piv_1[['eu_sales', 'jp_sales', 'na_sales']].sum()\n",
    "games_rating_piv_1.style.format({'eu_sales_%': '{:.2%}', 'jp_sales_%': '{:.2%}', 'na_sales_%': '{:.2%}'})\n"
   ]
  },
  {
   "cell_type": "code",
   "execution_count": 61,
   "id": "6bdc7a1c",
   "metadata": {},
   "outputs": [
    {
     "data": {
      "image/png": "[encoded data removed]",
      "text/plain": [
       "<Figure size 1080x432 with 1 Axes>"
      ]
     },
     "metadata": {
      "needs_background": "light"
     },
     "output_type": "display_data"
    }
   ],
   "source": [
    "# Посмотрим, как влияют на продажи рейтинг ESRB по регионам\n",
    "#в процентном соотношении\n",
    "\n",
    "ax = games_rating_piv_1[['eu_sales_%', 'jp_sales_%', 'na_sales_%']].plot.bar(rot=0, figsize = (15, 6), grid = True)\n",
    "ax.set_title('Распределение по регионам и рейтингу ESRB в процентном соотношении') #подписали график\n",
    "plt.legend()\n",
    "plt.xlabel('rating') #подписали ось х\n",
    "plt.ylabel('sales, %') #подписали ось y\n",
    "plt.show()"
   ]
  },
  {
   "cell_type": "markdown",
   "id": "0a415b9c",
   "metadata": {},
   "source": [
    "«E» («Everyone») — «Для всех»: Содержание вполне подходит для возрастной категории от 6 лет;\n",
    "\n",
    "«E10+» («Everyone 10 and older») — «Для всех от 10 лет и старше»;\n",
    "\n",
    "«T» («Teen») — «Подросткам»: Игра подходит для лиц от 13 лет;\n",
    "\n",
    "«M» («Mature») — «Для взрослых»: Материалы игры не подходят для подростков младше 17 лет\n",
    "\n",
    "В Европе и США чаще всего покупают игры категории М, распределение по остальным категориям для этих регионов похоже. В Японии наибольшую популярность имеют игры категории Т.\n",
    "\n",
    "\n",
    "### Вывод\n",
    "\n",
    "Составим условный портрет пользователя, отражающий наиболее типичные предпочтения для каждого региона.\n",
    "\n",
    "Для США это пользователь старше 17 лет, играющий на платформе ps4 или xone, предпочитающий Shooter или Action. В Европе это также пользователь старше 17 лет, скорее всего играющий на платформе ps4, предпочитающий Action или Shooter. Для Японии - от 13 до 17 лет, выбирающий платформу 3ds и играющий Role-Playing или Action."
   ]
  },
  {
   "cell_type": "markdown",
   "id": "532a6c6f",
   "metadata": {},
   "source": [
    "## Проверка гипотез\n",
    "\n",
    "Проверим следующие гипотезы:\n",
    "1. Средние пользовательские рейтинги платформ Xbox One и PC одинаковые;\n",
    "2. Средние пользовательские рейтинги жанров Action (англ. «действие», экшен-игры) и Sports (англ. «спортивные соревнования») разные.\n",
    "\n",
    "Когда генеральных совокупностей две, как при сравнении рейтингов, нужно сопоставить их средние. Чтобы проверить гипотезу о равенстве среднего двух генеральных совокупностей по взятым из них выборкам, применим метод scipy.stats.ttest_ind (array1, array2, equal_var).\n",
    "Те, вместо расчёта и сравнения самих средних, используем датасеты для проведения статистического теста\n",
    "\n",
    "Нулевую гипотезу формулируем, как равенство.\n",
    "\n",
    "Решаем вопрос о принятии или отвержении нулевой гипотезы по p-value, как вероятность ошибки при отклонении нулевой гипотезы. То есть, чем выше p-value тем скорее отклонение нулевой гипотезы будет ошибочным.\n",
    "\n",
    "Примем критический уровень статистической значимости alpha = 0.05  "
   ]
  },
  {
   "cell_type": "markdown",
   "id": "b5a95c38",
   "metadata": {},
   "source": [
    "#### Нулевая гипотеза 1: Средние пользовательские рейтинги платформ Xbox One и PC одинаковые\n",
    "Альтернативная гипотеза 1: Средние пользовательские рейтинги платформ Xbox One и PC отличаются\n",
    "\n",
    "Применяем гипотезу о равенстве средних двух генеральных совокупностей.\n",
    "Значима ли разница между этими числами, посмотрим по дисперсии выборок, по которым рассчитаны значения"
   ]
  },
  {
   "cell_type": "code",
   "execution_count": 62,
   "id": "9486fd27",
   "metadata": {},
   "outputs": [
    {
     "name": "stdout",
     "output_type": "stream",
     "text": [
      "Характеристики пользовательского рейтинга xone c 2014 по 2016 годы\n",
      "count    145\n",
      "mean       6\n",
      "std        1\n",
      "min        2\n",
      "25%        5\n",
      "50%        6\n",
      "75%        7\n",
      "max        9\n",
      "Name: user_score, dtype: int64\n",
      "Дисперися для xone 1.7275557669441144\n",
      "Стандартное отклонение для xone 1.3143651573836377\n",
      "\n",
      "Характеристики пользовательского рейтинга pc c 2014 по 2016 годы\n",
      "count    103\n",
      "mean       6\n",
      "std        1\n",
      "min        1\n",
      "25%        5\n",
      "50%        6\n",
      "75%        7\n",
      "max        9\n",
      "Name: user_score, dtype: int64\n",
      "Дисперися для pc 2.9060382693939104\n",
      "Стандартное отклонение для pc 1.7047106116270616\n"
     ]
    }
   ],
   "source": [
    "print('Характеристики пользовательского рейтинга xone c 2014 по 2016 годы')\n",
    "print(games_sc.query('year_of_release > 2013 & platform == \"xone\"')['user_score'].describe().astype(int))\n",
    "print('Дисперися для xone', np.var(games_sc.query('year_of_release > 2013 & platform == \"xone\"')['user_score']))\n",
    "print('Стандартное отклонение для xone', np.std(games_sc.query('year_of_release > 2013 & platform == \"xone\"')['user_score']))\n",
    "print()\n",
    "print('Характеристики пользовательского рейтинга pc c 2014 по 2016 годы')\n",
    "print(games_sc.query('year_of_release > 2013 & platform == \"pc\"')['user_score'].describe().astype(int))\n",
    "print('Дисперися для pc', np.var(games_sc.query('year_of_release > 2013 & platform == \"pc\"')['user_score']))\n",
    "print('Стандартное отклонение для pc', np.std(games_sc.query('year_of_release > 2013 & platform == \"pc\"')['user_score']))"
   ]
  },
  {
   "cell_type": "code",
   "execution_count": 63,
   "id": "d3d18cb3",
   "metadata": {},
   "outputs": [],
   "source": [
    "#Напишем функцию, строящую графики типа distplot\n",
    "#датасет, название столбца, заголовок графика\n",
    "def print_distplot(x_data, column, title=\"\"):    \n",
    "    sns.set_style('whitegrid')\n",
    "    ax = sns.distplot(x_data.loc[x_data['platform'] == 'xone', column],  bins=50, label='xone')\n",
    "    sns.distplot(x_data.loc[x_data['platform'] == 'pc', column],  bins=50, ax = ax, label='pc')\n",
    "    plt.axes().set_title(title)\n",
    "    plt.Figure(figsize=(7,7))\n",
    "    plt.legend()\n",
    "    plt.show()    "
   ]
  },
  {
   "cell_type": "code",
   "execution_count": 64,
   "id": "0c850074",
   "metadata": {},
   "outputs": [
    {
     "data": {
      "image/png": "[encoded data removed]",
      "text/plain": [
       "<Figure size 720x720 with 1 Axes>"
      ]
     },
     "metadata": {},
     "output_type": "display_data"
    }
   ],
   "source": [
    "plt.rcParams['figure.figsize']=(10,10)\n",
    "#датасет, название столбца, заголовок графика\n",
    "print_distplot(games_sc.query('year_of_release > 2013'), 'user_score', 'Распределение для платформ xone и pc по пользовательским рейтингам')"
   ]
  },
  {
   "cell_type": "markdown",
   "id": "f3046073",
   "metadata": {},
   "source": [
    "Медианы выборок на первый взгляд одинаковы, распределения по графикам похожи, но нужно провести статистический тест. Дисперсии совокупностей отличаются, поэтому параметр equal_var нужно указать как False"
   ]
  },
  {
   "cell_type": "code",
   "execution_count": 65,
   "id": "571bde90",
   "metadata": {},
   "outputs": [
    {
     "name": "stdout",
     "output_type": "stream",
     "text": [
      "p-значение: 0.1498449186136679\n",
      "Не получилось отвергнуть нулевую гипотезу\n"
     ]
    }
   ],
   "source": [
    "alpha = 0.05  # критический уровень статистической значимости\n",
    "# если p-value окажется меньше него - отвергнем гипотезу\n",
    "\n",
    "results = st.ttest_ind(games_sc.query('year_of_release > 2013 & platform == \"xone\"')['user_score'], \n",
    "                       games_sc.query('year_of_release > 2013 & platform == \"pc\"')['user_score'], \n",
    "                       equal_var = False)\n",
    "\n",
    "print('p-значение:', results.pvalue)\n",
    "\n",
    "if results.pvalue < alpha:\n",
    "    print('Отвергаем нулевую гипотезу')\n",
    "else:\n",
    "    print('Не получилось отвергнуть нулевую гипотезу') "
   ]
  },
  {
   "cell_type": "markdown",
   "id": "9f0cf6bb",
   "metadata": {},
   "source": [
    "Нулевая гипотеза скорее всего верна, с большой долей вероятности можно сказать, что cредние пользовательские рейтинги платформ Xbox One и PC одинаковые.\n",
    "\n",
    "#### Нулевая гипотеза 2: Средние пользовательские рейтинги жанров Action  и Sports одинаковы\n",
    "Альтернативная гипотеза 2: Средние пользовательские рейтинги жанров Action и Sports отличаются\n",
    "\n",
    "Применяем гипотезу о равенстве средних двух генеральных совокупностей.\n",
    "Значима ли разница между этими числами, посмотрим по дисперсии выборок."
   ]
  },
  {
   "cell_type": "code",
   "execution_count": 66,
   "id": "3631f6f3",
   "metadata": {},
   "outputs": [
    {
     "name": "stdout",
     "output_type": "stream",
     "text": [
      "Характеристики пользовательского рейтинга жанра Action c 2014 по 2016 годы\n",
      "count    221\n",
      "mean       6\n",
      "std        1\n",
      "min        2\n",
      "25%        6\n",
      "50%        7\n",
      "75%        7\n",
      "max        9\n",
      "Name: user_score, dtype: int64\n",
      "Дисперися для Action 1.8200077803484773\n",
      "Стандартное отклонение для Action 1.3490766399091185\n",
      "\n",
      "Характеристики пользовательского рейтинга жанра Sports c 2014 по 2016 годы\n",
      "count    79\n",
      "mean      5\n",
      "std       1\n",
      "min       1\n",
      "25%       4\n",
      "50%       6\n",
      "75%       6\n",
      "max       8\n",
      "Name: user_score, dtype: int64\n",
      "Дисперися для Sports 2.2313315173850348\n",
      "Стандартное отклонение для Sports 1.493764210772582\n"
     ]
    }
   ],
   "source": [
    "print('Характеристики пользовательского рейтинга жанра Action c 2014 по 2016 годы')\n",
    "print(games_sc.query('year_of_release > 2013 & genre == \"Action\"')['user_score'].describe().astype(int))\n",
    "print('Дисперися для Action', np.var(games_sc.query('year_of_release > 2013 & genre == \"Action\"')['user_score']))\n",
    "print('Стандартное отклонение для Action', np.std(games_sc.query('year_of_release > 2013 & genre == \"Action\"')['user_score']))\n",
    "print()\n",
    "print('Характеристики пользовательского рейтинга жанра Sports c 2014 по 2016 годы')\n",
    "print(games_sc.query('year_of_release > 2013 & genre == \"Sports\"')['user_score'].describe().astype(int))\n",
    "print('Дисперися для Sports', np.var(games_sc.query('year_of_release > 2013 & genre == \"Sports\"')['user_score']))\n",
    "print('Стандартное отклонение для Sports', np.std(games_sc.query('year_of_release > 2013 & genre == \"Sports\"')['user_score']))"
   ]
  },
  {
   "cell_type": "code",
   "execution_count": 67,
   "id": "6757e6b0",
   "metadata": {},
   "outputs": [],
   "source": [
    "#Напишем функцию, строящую графики типа distplot\n",
    "#датасет, название столбца, заголовок графика\n",
    "def print_distplot_1(x_data, column, title=\"\"):    \n",
    "    sns.set_style('whitegrid')\n",
    "    ax = sns.distplot(x_data.loc[x_data['genre'] == 'Action', column],  bins=50, label='Action')\n",
    "    sns.distplot(x_data.loc[x_data['genre'] == 'Sports', column],  bins=50, ax = ax, label='Sports')\n",
    "    plt.axes().set_title(title)\n",
    "    plt.Figure(figsize=(7,7))\n",
    "    plt.legend()\n",
    "    plt.show()    "
   ]
  },
  {
   "cell_type": "code",
   "execution_count": 68,
   "id": "5ceec5c1",
   "metadata": {},
   "outputs": [
    {
     "data": {
      "image/png": "[encoded data removed]",
      "text/plain": [
       "<Figure size 720x720 with 1 Axes>"
      ]
     },
     "metadata": {},
     "output_type": "display_data"
    }
   ],
   "source": [
    "plt.rcParams['figure.figsize']=(10,10)\n",
    "#датасет, название столбца, заголовок графика\n",
    "print_distplot_1(games_sc.query('year_of_release > 2013'), 'user_score', 'Распределение для жанров Action и Sports по пользовательским рейтингам')"
   ]
  },
  {
   "cell_type": "markdown",
   "id": "5edc814a",
   "metadata": {},
   "source": [
    "Медианы выборок на первый взгляд отличаются, грифики распределены визуально со смещением друг относительно друга, проведем статистический тест. Дисперсии совокупностей отличаются, поэтому параметр equal_var нужно указать как False"
   ]
  },
  {
   "cell_type": "code",
   "execution_count": 69,
   "id": "24b3f061",
   "metadata": {},
   "outputs": [
    {
     "name": "stdout",
     "output_type": "stream",
     "text": [
      "p-значение: 3.474253245303909e-08\n",
      "Отвергаем нулевую гипотезу\n"
     ]
    }
   ],
   "source": [
    "alpha = 0.05  # критический уровень статистической значимости\n",
    "# если p-value окажется меньше него - отвергнем гипотезу\n",
    "\n",
    "results = st.ttest_ind(games_sc.query('year_of_release > 2013 & genre == \"Action\"')['user_score'], \n",
    "                       games_sc.query('year_of_release > 2013 & genre == \"Sports\"')['user_score'], \n",
    "                       equal_var = False)\n",
    "\n",
    "print('p-значение:', results.pvalue)\n",
    "\n",
    "if results.pvalue < alpha:\n",
    "    print('Отвергаем нулевую гипотезу')\n",
    "else:\n",
    "    print('Не получилось отвергнуть нулевую гипотезу') "
   ]
  },
  {
   "cell_type": "markdown",
   "id": "29f39989",
   "metadata": {},
   "source": [
    "Статистический тест показал, что p-значение очень мало и нулевая гипотеза, что средние пользовательские рейтинги жанров Action и Sports одинаковы, скорее всего не верна. \n",
    "Скорее всего, средний пользовательский рейтинг жанров Action и Sports отличается. Судя по графику, можем предположить, что средний рейтинг Action выше чем средний рейтинг Sports.\n",
    "\n",
    "#### Вывод\n",
    "\n",
    "Результаты статистических тестов не противоречат гипотезе, что cредние пользовательские рейтинги платформ Xbox One и PC одинаковые. Нельзя отвергнуть гипотезу, что средний пользовательский рейтинг жанра Action отличается от среднего пользовательского рейтинга жанра Sports."
   ]
  },
  {
   "cell_type": "markdown",
   "id": "e4b5e623",
   "metadata": {},
   "source": [
    "## Общий вывод "
   ]
  },
  {
   "cell_type": "markdown",
   "id": "0a16867b",
   "metadata": {},
   "source": [
    "Проведено исследование для интернет-магазина, продающего компьютерные игры. \n",
    "Для анализа предоставлены данные из открытых источников, содержащие информацию о продажах игр, оценках пользователей и экспертов, жанрах и платформах за 2016 год и ранее. Целью исследования было выявить определяющие успешность игры закономерности для определения потенциально популярных продуктов и прогнозирования рекламной кампании на 2017-й год. \n",
    "\n",
    "Данные были обработаны, проверены на дубликаты, преобразованы к нужному типу, убраны строки с пропущенными значениями. Посчитано суммарное значение продаж по всем регионам. Для анализа связанного с рейтингами использовалась таблица games_sc, в которой отсутствуют пропуски в столбцах, связанных с рейтингами.\n",
    "\n",
    "В исследовании рассматривались данные за три предыдущие года. За этот срок тенденция (рост, пик или спад) обычно сохраняется. Подъем продаж по каждой платформе более быстрый, чем спад, в основном за 2-3 года достигает пика по каждой платформе.\n",
    "В среднем, жизненный цикл платформ 10 лет, популярность всех представленных в исследовании платформ снижается к 2017.\n",
    "\n",
    "Были определены 5 наиболее крупных платформ: ps4, xone, 3ds, psv, pc. Самые крупные платформы: ps4 и xone.\n",
    "\n",
    "По этим платформам проведено исследование корреляции, которое показало, что зависимость между рейтингами критиков и продажами выше, чем между рейтингом пользователей и продажами, поэтому для определения потенциально популярных продуктов во внимание стоит принимать скорее рейтинг критиков, чем пользователей.\n",
    "\n",
    "1. Определения перспективных продуктов и платформ по всем регионам.\n",
    "Наиболее перспективные платформы: ps4 (37% рынка), xone (20% рынка), 3ds (13% рынка)\n",
    "По перспективным платформам ps4 и xone по всем регионам наиболее популярными является жанр Shooter (около 47% продаж). В совокупности по всем регионам наименее интересны пользователям были жанры Puzzle, Strategy, Adventure.\n",
    "Хотя в большинстве жанров лидирует ps4, но для Simulation и Strategy лидером является pc. Платформа 3ds популярна в Role-Playing, Fighting, Puzzle, но на ней не представлен самый популярный жанр Shooter. \n",
    "\n",
    "2. Определения перспективных продуктов и платформ с разделением по регионам.\n",
    "В европейском регионе самая популярная платформа ps4, почти 50% рынка. В Европе ps4 значительно отрывается от конкурентов. \n",
    "Для Северной Америки ps4 также самая популярная платформа (35% рынка), но разрыв между ней и ближайшим конкурентом xone (28%) не так высок. В Японии самая популярная платформа 3ds (47% рынка). В Японии количество проданных игр на ps3 и ps4 практически одинаково, хотя в Европе и США ps4 значительно популярнее.\n",
    "\n",
    "    В Европе и Северной Америке симпатии по жанрам схожи, распределения по предпочтениям более плавное, чем в Японии. \n",
    "    В Европе больше любят Action, в США - Shooter, но по продажам показатели примерно сопоставимы, 25-27%. Существенно отличаются предпочтения в Японии, там любимый жанр Role-Playing, занимает 34% рынка. Следующий любимый жанр в Японии - Action, 31%. Остальные жанры - уже от 7% рынка и менее. \n",
    "\n",
    "    В Европе и США чаще всего покупают игры категории М (около 44% рынка). В Японии наибольшую популярность имеют игры категории Т (40% рынка).\n",
    "\n",
    "Результаты статистических тестов не противоречат гипотезе, что cредние пользовательские рейтинги платформ Xbox One и PC одинаковые. Скорее всего, справедлива гипотеза, что средний пользовательский рейтинг жанра Action отличается от среднего пользовательского рейтинга жанра Sports."
   ]
  },
  {
   "cell_type": "markdown",
   "id": "e5b00b7b",
   "metadata": {},
   "source": [
    "\n",
    "**Потенциально популярный продукт на 2017 год:**\n",
    "\n",
    "Для планирования кампании в США и Европе лучше рассматривать продвижения на платформах ps4 и xone, наиболее преспективный жанр -  Shooter. Возрастная группа, вероятнее всего, старше 17 лет.\n",
    "\n",
    "Для Японии - лучше выбрать платформу 3ds и ориентироваться на жанр Role-Playing или Action. Возрастная группа, вероятнее всего, от 13 до 17 лет.\n",
    "\n",
    "Самые продаваемые игры - требующие активных действий, отличающиеся активным темпом, имеющие акцент на борьбе и соревновании.\n",
    "Поскольку наблюдается снижение объемов продаж по представленным для анализа платформам к 2016 году, следует отслеживать появление перспективных новых платформ. "
   ]
  }
 ],
 "metadata": {
  "ExecuteTimeLog": [
   {
    "duration": 1500,
    "start_time": "2021-07-12T05:45:26.090Z"
   },
   {
    "duration": 76,
    "start_time": "2021-07-12T05:45:27.592Z"
   },
   {
    "duration": 29,
    "start_time": "2021-07-12T05:45:27.671Z"
   },
   {
    "duration": 12,
    "start_time": "2021-07-12T05:45:27.703Z"
   },
   {
    "duration": 4,
    "start_time": "2021-07-12T05:45:27.718Z"
   },
   {
    "duration": 26,
    "start_time": "2021-07-12T05:45:27.724Z"
   },
   {
    "duration": 50,
    "start_time": "2021-07-12T05:45:27.752Z"
   },
   {
    "duration": 18,
    "start_time": "2021-07-12T05:45:27.806Z"
   },
   {
    "duration": 15,
    "start_time": "2021-07-12T05:45:27.827Z"
   },
   {
    "duration": 57,
    "start_time": "2021-07-12T05:45:27.845Z"
   },
   {
    "duration": 26,
    "start_time": "2021-07-12T05:45:27.904Z"
   },
   {
    "duration": 13,
    "start_time": "2021-07-12T05:45:27.933Z"
   },
   {
    "duration": 53,
    "start_time": "2021-07-12T05:45:27.948Z"
   },
   {
    "duration": 11,
    "start_time": "2021-07-12T05:45:28.003Z"
   },
   {
    "duration": 652,
    "start_time": "2021-07-12T05:45:28.016Z"
   },
   {
    "duration": 45,
    "start_time": "2021-07-12T05:45:28.670Z"
   },
   {
    "duration": 16,
    "start_time": "2021-07-12T05:45:28.717Z"
   },
   {
    "duration": 445,
    "start_time": "2021-07-12T05:45:28.735Z"
   },
   {
    "duration": 28,
    "start_time": "2021-07-12T05:45:29.183Z"
   },
   {
    "duration": 9,
    "start_time": "2021-07-12T05:45:29.214Z"
   },
   {
    "duration": 45,
    "start_time": "2021-07-12T05:45:29.225Z"
   },
   {
    "duration": 29,
    "start_time": "2021-07-12T05:45:29.272Z"
   },
   {
    "duration": 631,
    "start_time": "2021-07-12T05:45:29.307Z"
   },
   {
    "duration": 9,
    "start_time": "2021-07-12T05:45:29.942Z"
   },
   {
    "duration": 49,
    "start_time": "2021-07-12T05:45:29.953Z"
   },
   {
    "duration": 48,
    "start_time": "2021-07-12T05:45:30.005Z"
   },
   {
    "duration": 695,
    "start_time": "2021-07-12T05:45:30.055Z"
   },
   {
    "duration": 55,
    "start_time": "2021-07-12T05:45:30.753Z"
   },
   {
    "duration": 681,
    "start_time": "2021-07-12T05:45:30.811Z"
   },
   {
    "duration": 29,
    "start_time": "2021-07-12T05:45:31.494Z"
   },
   {
    "duration": 605,
    "start_time": "2021-07-12T05:45:31.525Z"
   },
   {
    "duration": 920,
    "start_time": "2021-07-12T05:45:32.132Z"
   },
   {
    "duration": 7,
    "start_time": "2021-07-12T05:45:33.055Z"
   },
   {
    "duration": 924,
    "start_time": "2021-07-12T05:45:33.065Z"
   },
   {
    "duration": 17,
    "start_time": "2021-07-12T05:45:33.992Z"
   },
   {
    "duration": 1055,
    "start_time": "2021-07-12T05:45:34.012Z"
   },
   {
    "duration": 14,
    "start_time": "2021-07-12T05:45:35.070Z"
   },
   {
    "duration": 999,
    "start_time": "2021-07-12T05:45:35.101Z"
   },
   {
    "duration": 12,
    "start_time": "2021-07-12T05:45:36.103Z"
   },
   {
    "duration": 26,
    "start_time": "2021-07-12T05:45:36.118Z"
   },
   {
    "duration": 420,
    "start_time": "2021-07-12T05:45:36.147Z"
   },
   {
    "duration": -142,
    "start_time": "2021-07-12T05:45:36.712Z"
   },
   {
    "duration": -142,
    "start_time": "2021-07-12T05:45:36.714Z"
   },
   {
    "duration": -144,
    "start_time": "2021-07-12T05:45:36.717Z"
   },
   {
    "duration": -147,
    "start_time": "2021-07-12T05:45:36.721Z"
   },
   {
    "duration": -148,
    "start_time": "2021-07-12T05:45:36.723Z"
   },
   {
    "duration": -149,
    "start_time": "2021-07-12T05:45:36.726Z"
   },
   {
    "duration": -151,
    "start_time": "2021-07-12T05:45:36.729Z"
   },
   {
    "duration": -153,
    "start_time": "2021-07-12T05:45:36.732Z"
   },
   {
    "duration": -154,
    "start_time": "2021-07-12T05:45:36.735Z"
   },
   {
    "duration": -156,
    "start_time": "2021-07-12T05:45:36.738Z"
   },
   {
    "duration": -158,
    "start_time": "2021-07-12T05:45:36.741Z"
   },
   {
    "duration": -159,
    "start_time": "2021-07-12T05:45:36.744Z"
   },
   {
    "duration": -160,
    "start_time": "2021-07-12T05:45:36.746Z"
   },
   {
    "duration": -162,
    "start_time": "2021-07-12T05:45:36.749Z"
   },
   {
    "duration": -162,
    "start_time": "2021-07-12T05:45:36.751Z"
   },
   {
    "duration": -164,
    "start_time": "2021-07-12T05:45:36.754Z"
   },
   {
    "duration": -166,
    "start_time": "2021-07-12T05:45:36.757Z"
   },
   {
    "duration": -167,
    "start_time": "2021-07-12T05:45:36.759Z"
   },
   {
    "duration": -168,
    "start_time": "2021-07-12T05:45:36.762Z"
   },
   {
    "duration": -169,
    "start_time": "2021-07-12T05:45:36.764Z"
   },
   {
    "duration": -171,
    "start_time": "2021-07-12T05:45:36.767Z"
   },
   {
    "duration": -172,
    "start_time": "2021-07-12T05:45:36.769Z"
   },
   {
    "duration": 62418,
    "start_time": "2021-07-12T06:00:24.499Z"
   },
   {
    "duration": 1135,
    "start_time": "2021-07-12T06:01:28.333Z"
   },
   {
    "duration": 37,
    "start_time": "2021-07-12T06:01:29.471Z"
   },
   {
    "duration": 25,
    "start_time": "2021-07-12T06:01:29.511Z"
   },
   {
    "duration": 24,
    "start_time": "2021-07-12T06:01:29.538Z"
   },
   {
    "duration": 66,
    "start_time": "2021-07-12T06:01:29.564Z"
   },
   {
    "duration": 461,
    "start_time": "2021-07-12T06:01:29.634Z"
   },
   {
    "duration": 22,
    "start_time": "2021-07-12T06:01:30.101Z"
   },
   {
    "duration": 25,
    "start_time": "2021-07-12T06:01:30.125Z"
   },
   {
    "duration": 48,
    "start_time": "2021-07-12T06:01:30.152Z"
   },
   {
    "duration": 25,
    "start_time": "2021-07-12T06:01:30.203Z"
   },
   {
    "duration": 484,
    "start_time": "2021-07-12T06:01:30.230Z"
   },
   {
    "duration": 25,
    "start_time": "2021-07-12T06:01:30.716Z"
   },
   {
    "duration": 545,
    "start_time": "2021-07-12T06:01:30.743Z"
   },
   {
    "duration": 69,
    "start_time": "2021-07-12T06:01:31.290Z"
   },
   {
    "duration": 8,
    "start_time": "2021-07-12T06:01:31.363Z"
   },
   {
    "duration": 983,
    "start_time": "2021-07-12T06:01:31.403Z"
   },
   {
    "duration": 25,
    "start_time": "2021-07-12T06:01:32.389Z"
   },
   {
    "duration": 55,
    "start_time": "2021-07-12T06:01:32.417Z"
   },
   {
    "duration": 26,
    "start_time": "2021-07-12T06:01:32.475Z"
   },
   {
    "duration": 954,
    "start_time": "2021-07-12T06:01:32.503Z"
   },
   {
    "duration": 16,
    "start_time": "2021-07-12T06:01:33.460Z"
   },
   {
    "duration": 1423,
    "start_time": "2021-07-13T01:17:06.527Z"
   },
   {
    "duration": 70,
    "start_time": "2021-07-13T01:17:07.952Z"
   },
   {
    "duration": 17,
    "start_time": "2021-07-13T01:17:08.026Z"
   },
   {
    "duration": 14,
    "start_time": "2021-07-13T01:17:08.046Z"
   },
   {
    "duration": 38,
    "start_time": "2021-07-13T01:17:08.063Z"
   },
   {
    "duration": 25,
    "start_time": "2021-07-13T01:17:08.105Z"
   },
   {
    "duration": 18,
    "start_time": "2021-07-13T01:17:08.133Z"
   },
   {
    "duration": 52,
    "start_time": "2021-07-13T01:17:08.156Z"
   },
   {
    "duration": 18,
    "start_time": "2021-07-13T01:17:08.212Z"
   },
   {
    "duration": 25,
    "start_time": "2021-07-13T01:17:08.232Z"
   },
   {
    "duration": 54,
    "start_time": "2021-07-13T01:17:08.259Z"
   },
   {
    "duration": 11,
    "start_time": "2021-07-13T01:17:08.316Z"
   },
   {
    "duration": 21,
    "start_time": "2021-07-13T01:17:08.330Z"
   },
   {
    "duration": 10,
    "start_time": "2021-07-13T01:17:08.353Z"
   },
   {
    "duration": 9,
    "start_time": "2021-07-13T01:17:08.402Z"
   },
   {
    "duration": 603,
    "start_time": "2021-07-13T01:17:08.413Z"
   },
   {
    "duration": 27,
    "start_time": "2021-07-13T01:17:09.018Z"
   },
   {
    "duration": 31,
    "start_time": "2021-07-13T01:17:09.047Z"
   },
   {
    "duration": 32,
    "start_time": "2021-07-13T01:17:09.101Z"
   },
   {
    "duration": 11,
    "start_time": "2021-07-13T01:17:09.135Z"
   },
   {
    "duration": 55,
    "start_time": "2021-07-13T01:17:09.148Z"
   },
   {
    "duration": 14,
    "start_time": "2021-07-13T01:17:09.205Z"
   },
   {
    "duration": 413,
    "start_time": "2021-07-13T01:17:09.225Z"
   },
   {
    "duration": 17,
    "start_time": "2021-07-13T01:17:09.642Z"
   },
   {
    "duration": 18,
    "start_time": "2021-07-13T01:17:09.661Z"
   },
   {
    "duration": 54,
    "start_time": "2021-07-13T01:17:09.681Z"
   },
   {
    "duration": 5,
    "start_time": "2021-07-13T01:17:09.738Z"
   },
   {
    "duration": 631,
    "start_time": "2021-07-13T01:17:09.745Z"
   },
   {
    "duration": 24,
    "start_time": "2021-07-13T01:17:10.378Z"
   },
   {
    "duration": 35,
    "start_time": "2021-07-13T01:17:10.404Z"
   },
   {
    "duration": 46,
    "start_time": "2021-07-13T01:17:10.441Z"
   },
   {
    "duration": 657,
    "start_time": "2021-07-13T01:17:10.500Z"
   },
   {
    "duration": 50,
    "start_time": "2021-07-13T01:17:11.159Z"
   },
   {
    "duration": 719,
    "start_time": "2021-07-13T01:17:11.211Z"
   },
   {
    "duration": 26,
    "start_time": "2021-07-13T01:17:11.933Z"
   },
   {
    "duration": 568,
    "start_time": "2021-07-13T01:17:11.961Z"
   },
   {
    "duration": 903,
    "start_time": "2021-07-13T01:17:12.531Z"
   },
   {
    "duration": 6,
    "start_time": "2021-07-13T01:17:13.437Z"
   },
   {
    "duration": 1028,
    "start_time": "2021-07-13T01:17:13.446Z"
   },
   {
    "duration": 24,
    "start_time": "2021-07-13T01:17:14.476Z"
   },
   {
    "duration": 948,
    "start_time": "2021-07-13T01:17:14.502Z"
   },
   {
    "duration": 14,
    "start_time": "2021-07-13T01:17:15.453Z"
   },
   {
    "duration": 992,
    "start_time": "2021-07-13T01:17:15.469Z"
   },
   {
    "duration": 13,
    "start_time": "2021-07-13T01:17:16.463Z"
   },
   {
    "duration": 55,
    "start_time": "2021-07-13T01:17:16.478Z"
   },
   {
    "duration": 477,
    "start_time": "2021-07-13T01:17:16.535Z"
   },
   {
    "duration": 59032,
    "start_time": "2021-07-13T01:17:17.015Z"
   },
   {
    "duration": 25,
    "start_time": "2021-07-13T01:18:16.049Z"
   },
   {
    "duration": 534,
    "start_time": "2021-07-13T01:18:16.076Z"
   },
   {
    "duration": 24,
    "start_time": "2021-07-13T01:18:16.613Z"
   },
   {
    "duration": 22,
    "start_time": "2021-07-13T01:18:16.640Z"
   },
   {
    "duration": 150,
    "start_time": "2021-07-13T01:18:16.664Z"
   },
   {
    "duration": 34,
    "start_time": "2021-07-13T01:18:16.817Z"
   },
   {
    "duration": 450,
    "start_time": "2021-07-13T01:18:16.854Z"
   },
   {
    "duration": 24,
    "start_time": "2021-07-13T01:18:17.308Z"
   },
   {
    "duration": 24,
    "start_time": "2021-07-13T01:18:17.335Z"
   },
   {
    "duration": 24,
    "start_time": "2021-07-13T01:18:17.402Z"
   },
   {
    "duration": 21,
    "start_time": "2021-07-13T01:18:17.429Z"
   },
   {
    "duration": 480,
    "start_time": "2021-07-13T01:18:17.453Z"
   },
   {
    "duration": 26,
    "start_time": "2021-07-13T01:18:17.936Z"
   },
   {
    "duration": 421,
    "start_time": "2021-07-13T01:18:17.964Z"
   },
   {
    "duration": 53,
    "start_time": "2021-07-13T01:18:18.387Z"
   },
   {
    "duration": 7,
    "start_time": "2021-07-13T01:18:18.443Z"
   },
   {
    "duration": 939,
    "start_time": "2021-07-13T01:18:18.452Z"
   },
   {
    "duration": 17,
    "start_time": "2021-07-13T01:18:19.401Z"
   },
   {
    "duration": 47,
    "start_time": "2021-07-13T01:18:19.420Z"
   },
   {
    "duration": 30,
    "start_time": "2021-07-13T01:18:19.470Z"
   },
   {
    "duration": 916,
    "start_time": "2021-07-13T01:18:19.507Z"
   },
   {
    "duration": 18,
    "start_time": "2021-07-13T01:18:20.425Z"
   },
   {
    "duration": 8,
    "start_time": "2021-07-13T01:18:45.608Z"
   },
   {
    "duration": 27,
    "start_time": "2021-07-13T01:18:48.014Z"
   },
   {
    "duration": 8,
    "start_time": "2021-07-13T01:19:04.738Z"
   },
   {
    "duration": 22,
    "start_time": "2021-07-13T01:19:06.412Z"
   },
   {
    "duration": 6,
    "start_time": "2021-07-13T01:19:23.615Z"
   },
   {
    "duration": 21,
    "start_time": "2021-07-13T01:19:24.401Z"
   },
   {
    "duration": 16,
    "start_time": "2021-07-13T01:19:27.566Z"
   },
   {
    "duration": 532,
    "start_time": "2021-07-13T01:19:28.286Z"
   },
   {
    "duration": 19,
    "start_time": "2021-07-13T01:19:32.312Z"
   },
   {
    "duration": 10,
    "start_time": "2021-07-13T01:19:37.684Z"
   },
   {
    "duration": 52,
    "start_time": "2021-07-13T01:19:38.730Z"
   },
   {
    "duration": 5,
    "start_time": "2021-07-13T01:19:58.049Z"
   }
  ],
  "kernelspec": {
   "display_name": "Python 3",
   "language": "python",
   "name": "python3"
  },
  "language_info": {
   "codemirror_mode": {
    "name": "ipython",
    "version": 3
   },
   "file_extension": ".py",
   "mimetype": "text/x-python",
   "name": "python",
   "nbconvert_exporter": "python",
   "pygments_lexer": "ipython3",
   "version": "3.7.10"
  },
  "toc": {
   "base_numbering": 1,
   "nav_menu": {},
   "number_sections": true,
   "sideBar": true,
   "skip_h1_title": true,
   "title_cell": "Table of Contents",
   "title_sidebar": "Contents",
   "toc_cell": false,
   "toc_position": {},
   "toc_section_display": true,
   "toc_window_display": false
  }
 },
 "nbformat": 4,
 "nbformat_minor": 5
}
